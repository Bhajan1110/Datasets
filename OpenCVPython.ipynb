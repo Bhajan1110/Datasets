{
  "nbformat": 4,
  "nbformat_minor": 0,
  "metadata": {
    "colab": {
      "name": "OpenCVPython.ipynb",
      "provenance": [],
      "authorship_tag": "ABX9TyP+exZ4QeQ4Q18YESdCilG9",
      "include_colab_link": true
    },
    "kernelspec": {
      "name": "python3",
      "display_name": "Python 3"
    },
    "language_info": {
      "name": "python"
    }
  },
  "cells": [
    {
      "cell_type": "markdown",
      "metadata": {
        "id": "view-in-github",
        "colab_type": "text"
      },
      "source": [
        "<a href=\"https://colab.research.google.com/github/Bhajan1110/Datasets/blob/main/OpenCVPython.ipynb\" target=\"_parent\"><img src=\"https://colab.research.google.com/assets/colab-badge.svg\" alt=\"Open In Colab\"/></a>"
      ]
    },
    {
      "cell_type": "markdown",
      "metadata": {
        "id": "H8t9vWjD16Us"
      },
      "source": [
        "(1) https://medium.com/mlearning-ai/open-cv-computer-vision-ai-how-does-it-work-801d4cdec462\n",
        "       \n",
        "(2) https://pypi.org/project/opencv-python/\n",
        "\n",
        "(3) https://www.geeksforgeeks.org/opencv-python-tutorial/\n",
        "\n"
      ]
    },
    {
      "cell_type": "code",
      "metadata": {
        "id": "yKxxjEBU1Nso"
      },
      "source": [
        "url =  'http://colab.research.google.com/opencv/opencv/tree/master/samples/data'"
      ],
      "execution_count": 3,
      "outputs": []
    },
    {
      "cell_type": "code",
      "metadata": {
        "colab": {
          "base_uri": "https://localhost:8080/",
          "height": 35
        },
        "id": "pVmZUKnz3Hvg",
        "outputId": "4df61426-6160-43b5-e14e-82db8577eb77"
      },
      "source": [
        "url"
      ],
      "execution_count": 4,
      "outputs": [
        {
          "output_type": "execute_result",
          "data": {
            "application/vnd.google.colaboratory.intrinsic+json": {
              "type": "string"
            },
            "text/plain": [
              "'http://colab.research.google.com/opencv/opencv/tree/master/samples/data'"
            ]
          },
          "metadata": {
            "tags": []
          },
          "execution_count": 4
        }
      ]
    },
    {
      "cell_type": "code",
      "metadata": {
        "id": "IHEYC_u83H9Q"
      },
      "source": [
        ""
      ],
      "execution_count": null,
      "outputs": []
    },
    {
      "cell_type": "code",
      "metadata": {
        "id": "ISZgZ0CO3IHz"
      },
      "source": [
        ""
      ],
      "execution_count": null,
      "outputs": []
    }
  ]
}