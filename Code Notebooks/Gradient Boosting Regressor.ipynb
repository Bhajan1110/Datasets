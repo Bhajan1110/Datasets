{
 "cells": [
  {
   "cell_type": "markdown",
   "id": "081d5d1b",
   "metadata": {},
   "source": [
    "# \n",
    "Gradient Boosting is a popular boosting algorithm. In gradient boosting, each predictor corrects its predecessor’s error. \n",
    "In contrast to Adaboost, the weights of the training instances are not tweaked, instead, each predictor is trained using the \n",
    "residual errors of predecessor as labels.\n",
    "\n",
    "There is a technique called the Gradient Boosted Trees whose base learner is CART (Classification and Regression Trees).\n",
    "The class of the gradient boosting regression in scikit-learn is GradientBoostingRegressor. A similar algorithm is used for \n",
    "classification known as GradientBoostingClassifier."
   ]
  },
  {
   "cell_type": "code",
   "execution_count": 8,
   "id": "ae954c9b",
   "metadata": {},
   "outputs": [],
   "source": [
    "from sklearn.ensemble import GradientBoostingRegressor\n",
    "from sklearn.model_selection import train_test_split\n",
    "from sklearn.metrics import mean_squared_error as MSE\n",
    "from sklearn import datasets\n",
    "import pandas as pd\n",
    "import numpy as np\n",
    "import seaborn as sns\n",
    "import matplotlib.pyplot as plt\n",
    "%matplotlib inline\n",
    "from scipy import stats\n",
    "import io"
   ]
  },
  {
   "cell_type": "code",
   "execution_count": 9,
   "id": "8e63517c",
   "metadata": {},
   "outputs": [],
   "source": [
    "# importing data\n",
    "bike = datasets.load_bike()"
   ]
  },
  {
   "cell_type": "code",
   "execution_count": null,
   "id": "8a5013fa",
   "metadata": {},
   "outputs": [],
   "source": [
    "X, Y = bike.data, bike.target"
   ]
  },
  {
   "cell_type": "code",
   "execution_count": null,
   "id": "95f29343",
   "metadata": {},
   "outputs": [],
   "source": [
    "train_x, test_x, train_y, test_y = train_test_split(X, Y, test_size = 0.3, random_state = 100)"
   ]
  },
  {
   "cell_type": "code",
   "execution_count": null,
   "id": "98a5b7f3",
   "metadata": {},
   "outputs": [],
   "source": [
    "# bbc = GradientBoostingClassifier()\n",
    "gbr = GradientBoostingRegressor(n_estimators = 200, max_depth = 1, random_state = 100)"
   ]
  },
  {
   "cell_type": "code",
   "execution_count": null,
   "id": "7de3daca",
   "metadata": {},
   "outputs": [],
   "source": [
    "gbr.fit(train_x, train_y)"
   ]
  },
  {
   "cell_type": "code",
   "execution_count": null,
   "id": "17af66c8",
   "metadata": {},
   "outputs": [],
   "source": [
    "pred_y = gbr.predict(test_x)   "
   ]
  },
  {
   "cell_type": "code",
   "execution_count": null,
   "id": "3d89f342",
   "metadata": {},
   "outputs": [],
   "source": [
    "test_rmse = MSE(test_y, pred_y) ** (1 / 2)"
   ]
  },
  {
   "cell_type": "code",
   "execution_count": null,
   "id": "6bf8f8aa",
   "metadata": {},
   "outputs": [],
   "source": [
    "print('RMSE test set: {:.2f}'.format(test_rmse))"
   ]
  },
  {
   "cell_type": "code",
   "execution_count": null,
   "id": "dd00d7f3",
   "metadata": {},
   "outputs": [],
   "source": []
  }
 ],
 "metadata": {
  "kernelspec": {
   "display_name": "Python 3",
   "language": "python",
   "name": "python3"
  },
  "language_info": {
   "codemirror_mode": {
    "name": "ipython",
    "version": 3
   },
   "file_extension": ".py",
   "mimetype": "text/x-python",
   "name": "python",
   "nbconvert_exporter": "python",
   "pygments_lexer": "ipython3",
   "version": "3.9.1"
  }
 },
 "nbformat": 4,
 "nbformat_minor": 5
}
