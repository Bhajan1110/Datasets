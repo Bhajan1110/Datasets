{
 "cells": [
  {
   "cell_type": "markdown",
   "id": "56572ac3",
   "metadata": {},
   "source": [
    "# \n",
    "In here we use machine learning algorithms to analyze and cluster unlabeled datasets. These algorithms discover hidden patterns \n",
    "or data groupings without the need for human intervention. Its ability to discover similarities and differences in information \n",
    "make it the ideal solution for exploratory data analysis, cross-selling strategies, customer segmentation,and image recognition.\n",
    "\n",
    "Unsupervised learning models are utilized for three main tasks—clustering, association, and dimensionality reduction.\n",
    "\n",
    "-- Clustering is a data mining technique which groups unlabeled data based on their similarities or differences. Clustering \n",
    "algorithms are used to process raw, unclassified data objects into groups represented by structures or patterns in the \n",
    "information. Clustering algorithms can be categorized into a few types, specifically exclusive, overlapping, hierarchical, and \n",
    "probabilistic.\n",
    "\n",
    "* Exclusive clustering is a form of grouping that stipulates a data point can exist only in one cluster. This can also be \n",
    "referred to as “hard” clustering. The K-means clustering algorithm is an example of exclusive clustering.\n",
    "\n",
    "K-means clustering is a common example of an exclusive clustering method where data points are assigned into K groups, where \n",
    "K represents the number of clusters based on the distance from each group’s centroid. The data points closest to a given \n",
    "centroid will be clustered under the same category. A larger K value will be indicative of smaller groupings with more \n",
    "granularity whereas a smaller K value will have larger groupings and less granularity. K-means clustering is commonly used in \n",
    "market segmentation, document clustering, image segmentation, and image compression.\n",
    "\n",
    "* Overlapping clusters differs from exclusive clustering in that it allows data points to belong to multiple clusters with \n",
    "separate degrees of membership. “Soft” or fuzzy k-means clustering and GMM is an example of overlapping clustering.\n",
    "\n",
    "* Hierarchical clustering, also known as hierarchical cluster analysis (HCA), is an unsupervised clustering algorithm that can \n",
    "be categorized in two ways; they can be agglomerative or divisive.\n",
    "\n",
    "Agglomerative clustering is considered a “bottoms-up approach.” Its data points are isolated as separate groupings initially, \n",
    "and then they are merged together iteratively on the basis of similarity until one cluster has been achieved.\n",
    "\n",
    "Divisive clustering can be defined as the opposite of agglomerative clustering; instead it takes a “top-down” approach. In this \n",
    "case, a single data cluster is divided based on the differences between data points. Divisive clustering is not commonly used, \n",
    "but it is still worth noting in the context of hierarchical clustering. \n",
    "\n",
    "Euclidean distance is the most common metric used to calculate these distances; however, other metrics, such as Manhattan \n",
    "distance, are also cited in clustering literature. These clustering processes are usually visualized using a dendrogram, a \n",
    "tree-like diagram that documents the merging or splitting of data points at each iteration.\n",
    "\n",
    "* A probabilistic model is an unsupervised technique that helps us solve density estimation or “soft” clustering problems. \n",
    "In probabilistic clustering, data points are clustered based on the likelihood that they belong to a particular distribution. \n",
    "The Gaussian Mixture Model (GMM) is the one of the most commonly used probabilistic clustering methods.\n",
    "\n",
    "Gaussian Mixture Models(soft clustering) are classified as mixture models, which means that they are made up of an unspecified \n",
    "number of probability distribution functions. GMMs are primarily leveraged to determine which Gaussian, or normal, probability \n",
    "distribution a given data point belongs to. If the mean or variance are known, then we can determine which distribution a given \n",
    "data point belongs to. However, in GMMs, these variables are not known, so we assume that a latent, or hidden, variable exists \n",
    "to cluster data points appropriately. While it is not required to use the Expectation-Maximization (EM) algorithm, it is a \n",
    "commonly used to estimate the assignment probabilities for a given data point to a particular data cluster.\n"
   ]
  },
  {
   "cell_type": "code",
   "execution_count": 1,
   "id": "fcc17925",
   "metadata": {},
   "outputs": [],
   "source": [
    "import pandas as pd\n",
    "data = pd.read_csv('Clustering_gmm.csv')"
   ]
  },
  {
   "cell_type": "code",
   "execution_count": 2,
   "id": "9097b2d7",
   "metadata": {},
   "outputs": [
    {
     "data": {
      "text/html": [
       "<div>\n",
       "<style scoped>\n",
       "    .dataframe tbody tr th:only-of-type {\n",
       "        vertical-align: middle;\n",
       "    }\n",
       "\n",
       "    .dataframe tbody tr th {\n",
       "        vertical-align: top;\n",
       "    }\n",
       "\n",
       "    .dataframe thead th {\n",
       "        text-align: right;\n",
       "    }\n",
       "</style>\n",
       "<table border=\"1\" class=\"dataframe\">\n",
       "  <thead>\n",
       "    <tr style=\"text-align: right;\">\n",
       "      <th></th>\n",
       "      <th>Weight</th>\n",
       "      <th>Height</th>\n",
       "    </tr>\n",
       "  </thead>\n",
       "  <tbody>\n",
       "    <tr>\n",
       "      <th>count</th>\n",
       "      <td>500.000000</td>\n",
       "      <td>500.000000</td>\n",
       "    </tr>\n",
       "    <tr>\n",
       "      <th>mean</th>\n",
       "      <td>61.270240</td>\n",
       "      <td>169.515781</td>\n",
       "    </tr>\n",
       "    <tr>\n",
       "      <th>std</th>\n",
       "      <td>5.196976</td>\n",
       "      <td>4.805095</td>\n",
       "    </tr>\n",
       "    <tr>\n",
       "      <th>min</th>\n",
       "      <td>50.433644</td>\n",
       "      <td>160.182164</td>\n",
       "    </tr>\n",
       "    <tr>\n",
       "      <th>25%</th>\n",
       "      <td>57.772791</td>\n",
       "      <td>166.607599</td>\n",
       "    </tr>\n",
       "    <tr>\n",
       "      <th>50%</th>\n",
       "      <td>61.961518</td>\n",
       "      <td>169.726252</td>\n",
       "    </tr>\n",
       "    <tr>\n",
       "      <th>75%</th>\n",
       "      <td>65.439332</td>\n",
       "      <td>172.837284</td>\n",
       "    </tr>\n",
       "    <tr>\n",
       "      <th>max</th>\n",
       "      <td>70.700456</td>\n",
       "      <td>178.894770</td>\n",
       "    </tr>\n",
       "  </tbody>\n",
       "</table>\n",
       "</div>"
      ],
      "text/plain": [
       "           Weight      Height\n",
       "count  500.000000  500.000000\n",
       "mean    61.270240  169.515781\n",
       "std      5.196976    4.805095\n",
       "min     50.433644  160.182164\n",
       "25%     57.772791  166.607599\n",
       "50%     61.961518  169.726252\n",
       "75%     65.439332  172.837284\n",
       "max     70.700456  178.894770"
      ]
     },
     "execution_count": 2,
     "metadata": {},
     "output_type": "execute_result"
    }
   ],
   "source": [
    "data.describe()"
   ]
  },
  {
   "cell_type": "code",
   "execution_count": 12,
   "id": "a9a0e51b",
   "metadata": {},
   "outputs": [
    {
     "data": {
      "text/html": [
       "<div>\n",
       "<style scoped>\n",
       "    .dataframe tbody tr th:only-of-type {\n",
       "        vertical-align: middle;\n",
       "    }\n",
       "\n",
       "    .dataframe tbody tr th {\n",
       "        vertical-align: top;\n",
       "    }\n",
       "\n",
       "    .dataframe thead th {\n",
       "        text-align: right;\n",
       "    }\n",
       "</style>\n",
       "<table border=\"1\" class=\"dataframe\">\n",
       "  <thead>\n",
       "    <tr style=\"text-align: right;\">\n",
       "      <th></th>\n",
       "      <th>Weight</th>\n",
       "      <th>Height</th>\n",
       "    </tr>\n",
       "  </thead>\n",
       "  <tbody>\n",
       "    <tr>\n",
       "      <th>0</th>\n",
       "      <td>67.062924</td>\n",
       "      <td>176.086355</td>\n",
       "    </tr>\n",
       "    <tr>\n",
       "      <th>1</th>\n",
       "      <td>68.804094</td>\n",
       "      <td>178.388669</td>\n",
       "    </tr>\n",
       "    <tr>\n",
       "      <th>2</th>\n",
       "      <td>60.930863</td>\n",
       "      <td>170.284496</td>\n",
       "    </tr>\n",
       "    <tr>\n",
       "      <th>3</th>\n",
       "      <td>59.733843</td>\n",
       "      <td>168.691992</td>\n",
       "    </tr>\n",
       "    <tr>\n",
       "      <th>4</th>\n",
       "      <td>65.431230</td>\n",
       "      <td>173.763679</td>\n",
       "    </tr>\n",
       "    <tr>\n",
       "      <th>...</th>\n",
       "      <td>...</td>\n",
       "      <td>...</td>\n",
       "    </tr>\n",
       "    <tr>\n",
       "      <th>495</th>\n",
       "      <td>59.976983</td>\n",
       "      <td>169.679741</td>\n",
       "    </tr>\n",
       "    <tr>\n",
       "      <th>496</th>\n",
       "      <td>66.423814</td>\n",
       "      <td>174.625574</td>\n",
       "    </tr>\n",
       "    <tr>\n",
       "      <th>497</th>\n",
       "      <td>53.604698</td>\n",
       "      <td>161.919208</td>\n",
       "    </tr>\n",
       "    <tr>\n",
       "      <th>498</th>\n",
       "      <td>50.433644</td>\n",
       "      <td>160.794875</td>\n",
       "    </tr>\n",
       "    <tr>\n",
       "      <th>499</th>\n",
       "      <td>60.224392</td>\n",
       "      <td>169.689709</td>\n",
       "    </tr>\n",
       "  </tbody>\n",
       "</table>\n",
       "<p>500 rows × 2 columns</p>\n",
       "</div>"
      ],
      "text/plain": [
       "        Weight      Height\n",
       "0    67.062924  176.086355\n",
       "1    68.804094  178.388669\n",
       "2    60.930863  170.284496\n",
       "3    59.733843  168.691992\n",
       "4    65.431230  173.763679\n",
       "..         ...         ...\n",
       "495  59.976983  169.679741\n",
       "496  66.423814  174.625574\n",
       "497  53.604698  161.919208\n",
       "498  50.433644  160.794875\n",
       "499  60.224392  169.689709\n",
       "\n",
       "[500 rows x 2 columns]"
      ]
     },
     "execution_count": 12,
     "metadata": {},
     "output_type": "execute_result"
    }
   ],
   "source": [
    "data"
   ]
  },
  {
   "cell_type": "code",
   "execution_count": 4,
   "id": "6250ffd2",
   "metadata": {},
   "outputs": [],
   "source": [
    "import numpy as np\n",
    "import seaborn as sns\n",
    "%matplotlib inline\n",
    "import matplotlib.pyplot as plt"
   ]
  },
  {
   "cell_type": "code",
   "execution_count": 5,
   "id": "ec1c5c07",
   "metadata": {},
   "outputs": [
    {
     "data": {
      "image/png": "[encoded data removed]",
      "text/plain": [
       "<Figure size 720x720 with 1 Axes>"
      ]
     },
     "metadata": {
      "needs_background": "light"
     },
     "output_type": "display_data"
    }
   ],
   "source": [
    "plt.figure(figsize=(10,10))\n",
    "plt.scatter(data[\"Weight\"],data[\"Height\"])\n",
    "plt.xlabel('Weight')\n",
    "plt.ylabel('Height')\n",
    "plt.title('Data Distribution')\n",
    "plt.show()"
   ]
  },
  {
   "cell_type": "markdown",
   "id": "dc156865",
   "metadata": {},
   "source": [
    "# k-means model"
   ]
  },
  {
   "cell_type": "code",
   "execution_count": 13,
   "id": "33189a6f",
   "metadata": {},
   "outputs": [],
   "source": [
    "from sklearn.cluster import KMeans"
   ]
  },
  {
   "cell_type": "code",
   "execution_count": 14,
   "id": "de90bce3",
   "metadata": {},
   "outputs": [],
   "source": [
    "kmeans = KMeans(n_clusters=10, random_state=100)"
   ]
  },
  {
   "cell_type": "code",
   "execution_count": 15,
   "id": "ab0093b4",
   "metadata": {},
   "outputs": [
    {
     "data": {
      "text/plain": [
       "KMeans(n_clusters=10, random_state=100)"
      ]
     },
     "execution_count": 15,
     "metadata": {},
     "output_type": "execute_result"
    }
   ],
   "source": [
    "kmeans"
   ]
  },
  {
   "cell_type": "code",
   "execution_count": 16,
   "id": "66f51d0c",
   "metadata": {},
   "outputs": [
    {
     "data": {
      "text/plain": [
       "KMeans(n_clusters=10, random_state=100)"
      ]
     },
     "execution_count": 16,
     "metadata": {},
     "output_type": "execute_result"
    }
   ],
   "source": [
    "kmeans.fit(data)"
   ]
  },
  {
   "cell_type": "code",
   "execution_count": 17,
   "id": "2bcf3373",
   "metadata": {},
   "outputs": [],
   "source": [
    "pred = kmeans.predict(data)"
   ]
  },
  {
   "cell_type": "code",
   "execution_count": 18,
   "id": "10e2b53d",
   "metadata": {},
   "outputs": [
    {
     "data": {
      "text/plain": [
       "array([5, 9, 3, 7, 0, 2, 6, 3, 3, 8, 2, 9, 6, 8, 3, 7, 5, 7, 8, 7, 7, 9,\n",
       "       6, 8, 7, 1, 9, 2, 1, 2, 6, 6, 9, 6, 2, 9, 8, 3, 8, 5, 4, 3, 7, 9,\n",
       "       6, 5, 3, 3, 5, 5, 8, 8, 6, 3, 7, 6, 6, 8, 1, 5, 5, 1, 5, 5, 9, 2,\n",
       "       7, 5, 7, 6, 4, 3, 4, 5, 4, 9, 6, 6, 3, 3, 8, 3, 8, 3, 7, 6, 8, 1,\n",
       "       0, 8, 8, 1, 5, 8, 7, 3, 5, 9, 5, 3, 4, 1, 0, 1, 7, 7, 2, 5, 3, 1,\n",
       "       8, 2, 8, 1, 5, 8, 5, 7, 6, 5, 3, 8, 0, 5, 8, 5, 5, 5, 5, 1, 7, 8,\n",
       "       6, 8, 1, 8, 3, 9, 3, 6, 9, 5, 0, 5, 2, 8, 3, 3, 6, 8, 1, 5, 7, 3,\n",
       "       7, 6, 2, 5, 2, 7, 5, 3, 0, 0, 6, 6, 9, 3, 8, 6, 9, 8, 5, 6, 3, 4,\n",
       "       3, 4, 4, 8, 9, 5, 0, 7, 2, 1, 2, 5, 6, 1, 5, 2, 4, 2, 6, 4, 3, 2,\n",
       "       7, 1, 1, 7, 2, 6, 7, 6, 6, 7, 2, 0, 2, 5, 0, 0, 7, 9, 6, 8, 1, 8,\n",
       "       3, 5, 6, 8, 6, 0, 1, 7, 1, 2, 6, 2, 2, 6, 7, 3, 7, 6, 8, 5, 0, 6,\n",
       "       2, 9, 8, 1, 7, 5, 3, 3, 3, 6, 5, 4, 7, 1, 8, 6, 1, 2, 3, 7, 5, 4,\n",
       "       5, 0, 3, 3, 8, 9, 3, 8, 5, 2, 5, 4, 2, 2, 7, 5, 0, 7, 5, 2, 5, 7,\n",
       "       6, 5, 7, 3, 3, 5, 4, 8, 5, 4, 4, 8, 7, 0, 9, 8, 3, 4, 0, 5, 6, 1,\n",
       "       1, 7, 8, 3, 5, 3, 8, 6, 8, 2, 2, 7, 7, 7, 6, 2, 4, 9, 3, 6, 8, 5,\n",
       "       3, 3, 5, 9, 6, 5, 6, 2, 7, 2, 8, 0, 0, 3, 0, 7, 5, 5, 0, 0, 7, 5,\n",
       "       3, 5, 7, 7, 8, 0, 7, 1, 1, 2, 7, 0, 9, 6, 6, 0, 2, 8, 7, 7, 3, 8,\n",
       "       3, 2, 7, 8, 4, 3, 1, 8, 2, 8, 8, 2, 2, 6, 6, 8, 4, 1, 8, 9, 1, 5,\n",
       "       3, 5, 8, 3, 5, 7, 9, 7, 2, 2, 8, 7, 8, 6, 6, 0, 1, 6, 3, 9, 1, 6,\n",
       "       6, 3, 0, 3, 5, 6, 9, 3, 9, 1, 2, 9, 8, 5, 3, 6, 3, 6, 5, 1, 7, 3,\n",
       "       6, 5, 0, 7, 7, 6, 3, 2, 8, 5, 2, 0, 1, 2, 6, 2, 8, 6, 7, 8, 6, 2,\n",
       "       6, 6, 0, 7, 4, 5, 6, 5, 7, 0, 2, 8, 3, 8, 6, 4, 7, 1, 7, 2, 6, 8,\n",
       "       2, 2, 2, 8, 5, 6, 2, 1, 3, 2, 2, 7, 0, 8, 4, 7])"
      ]
     },
     "execution_count": 18,
     "metadata": {},
     "output_type": "execute_result"
    }
   ],
   "source": [
    "pred"
   ]
  },
  {
   "cell_type": "code",
   "execution_count": 19,
   "id": "a366025b",
   "metadata": {},
   "outputs": [],
   "source": [
    "frame = pd.DataFrame(data)\n",
    "frame['cluster'] = pred"
   ]
  },
  {
   "cell_type": "code",
   "execution_count": 43,
   "id": "f559decb",
   "metadata": {},
   "outputs": [
    {
     "data": {
      "text/html": [
       "<div>\n",
       "<style scoped>\n",
       "    .dataframe tbody tr th:only-of-type {\n",
       "        vertical-align: middle;\n",
       "    }\n",
       "\n",
       "    .dataframe tbody tr th {\n",
       "        vertical-align: top;\n",
       "    }\n",
       "\n",
       "    .dataframe thead th {\n",
       "        text-align: right;\n",
       "    }\n",
       "</style>\n",
       "<table border=\"1\" class=\"dataframe\">\n",
       "  <thead>\n",
       "    <tr style=\"text-align: right;\">\n",
       "      <th></th>\n",
       "      <th>Weight</th>\n",
       "      <th>Height</th>\n",
       "      <th>cluster</th>\n",
       "    </tr>\n",
       "  </thead>\n",
       "  <tbody>\n",
       "    <tr>\n",
       "      <th>0</th>\n",
       "      <td>67.062924</td>\n",
       "      <td>176.086355</td>\n",
       "      <td>5</td>\n",
       "    </tr>\n",
       "    <tr>\n",
       "      <th>1</th>\n",
       "      <td>68.804094</td>\n",
       "      <td>178.388669</td>\n",
       "      <td>9</td>\n",
       "    </tr>\n",
       "    <tr>\n",
       "      <th>2</th>\n",
       "      <td>60.930863</td>\n",
       "      <td>170.284496</td>\n",
       "      <td>3</td>\n",
       "    </tr>\n",
       "    <tr>\n",
       "      <th>3</th>\n",
       "      <td>59.733843</td>\n",
       "      <td>168.691992</td>\n",
       "      <td>7</td>\n",
       "    </tr>\n",
       "    <tr>\n",
       "      <th>4</th>\n",
       "      <td>65.431230</td>\n",
       "      <td>173.763679</td>\n",
       "      <td>0</td>\n",
       "    </tr>\n",
       "    <tr>\n",
       "      <th>...</th>\n",
       "      <td>...</td>\n",
       "      <td>...</td>\n",
       "      <td>...</td>\n",
       "    </tr>\n",
       "    <tr>\n",
       "      <th>495</th>\n",
       "      <td>59.976983</td>\n",
       "      <td>169.679741</td>\n",
       "      <td>7</td>\n",
       "    </tr>\n",
       "    <tr>\n",
       "      <th>496</th>\n",
       "      <td>66.423814</td>\n",
       "      <td>174.625574</td>\n",
       "      <td>0</td>\n",
       "    </tr>\n",
       "    <tr>\n",
       "      <th>497</th>\n",
       "      <td>53.604698</td>\n",
       "      <td>161.919208</td>\n",
       "      <td>8</td>\n",
       "    </tr>\n",
       "    <tr>\n",
       "      <th>498</th>\n",
       "      <td>50.433644</td>\n",
       "      <td>160.794875</td>\n",
       "      <td>4</td>\n",
       "    </tr>\n",
       "    <tr>\n",
       "      <th>499</th>\n",
       "      <td>60.224392</td>\n",
       "      <td>169.689709</td>\n",
       "      <td>7</td>\n",
       "    </tr>\n",
       "  </tbody>\n",
       "</table>\n",
       "<p>500 rows × 3 columns</p>\n",
       "</div>"
      ],
      "text/plain": [
       "        Weight      Height  cluster\n",
       "0    67.062924  176.086355        5\n",
       "1    68.804094  178.388669        9\n",
       "2    60.930863  170.284496        3\n",
       "3    59.733843  168.691992        7\n",
       "4    65.431230  173.763679        0\n",
       "..         ...         ...      ...\n",
       "495  59.976983  169.679741        7\n",
       "496  66.423814  174.625574        0\n",
       "497  53.604698  161.919208        8\n",
       "498  50.433644  160.794875        4\n",
       "499  60.224392  169.689709        7\n",
       "\n",
       "[500 rows x 3 columns]"
      ]
     },
     "execution_count": 43,
     "metadata": {},
     "output_type": "execute_result"
    }
   ],
   "source": [
    "frame"
   ]
  },
  {
   "cell_type": "code",
   "execution_count": 22,
   "id": "066c099f",
   "metadata": {},
   "outputs": [],
   "source": [
    "frame.columns = ['Weight', 'Height', 'cluster']"
   ]
  },
  {
   "cell_type": "code",
   "execution_count": 23,
   "id": "88dae0b0",
   "metadata": {},
   "outputs": [
    {
     "data": {
      "text/html": [
       "<div>\n",
       "<style scoped>\n",
       "    .dataframe tbody tr th:only-of-type {\n",
       "        vertical-align: middle;\n",
       "    }\n",
       "\n",
       "    .dataframe tbody tr th {\n",
       "        vertical-align: top;\n",
       "    }\n",
       "\n",
       "    .dataframe thead th {\n",
       "        text-align: right;\n",
       "    }\n",
       "</style>\n",
       "<table border=\"1\" class=\"dataframe\">\n",
       "  <thead>\n",
       "    <tr style=\"text-align: right;\">\n",
       "      <th></th>\n",
       "      <th>Weight</th>\n",
       "      <th>Height</th>\n",
       "      <th>cluster</th>\n",
       "    </tr>\n",
       "  </thead>\n",
       "  <tbody>\n",
       "    <tr>\n",
       "      <th>0</th>\n",
       "      <td>67.062924</td>\n",
       "      <td>176.086355</td>\n",
       "      <td>5</td>\n",
       "    </tr>\n",
       "    <tr>\n",
       "      <th>1</th>\n",
       "      <td>68.804094</td>\n",
       "      <td>178.388669</td>\n",
       "      <td>9</td>\n",
       "    </tr>\n",
       "    <tr>\n",
       "      <th>2</th>\n",
       "      <td>60.930863</td>\n",
       "      <td>170.284496</td>\n",
       "      <td>3</td>\n",
       "    </tr>\n",
       "    <tr>\n",
       "      <th>3</th>\n",
       "      <td>59.733843</td>\n",
       "      <td>168.691992</td>\n",
       "      <td>7</td>\n",
       "    </tr>\n",
       "    <tr>\n",
       "      <th>4</th>\n",
       "      <td>65.431230</td>\n",
       "      <td>173.763679</td>\n",
       "      <td>0</td>\n",
       "    </tr>\n",
       "    <tr>\n",
       "      <th>...</th>\n",
       "      <td>...</td>\n",
       "      <td>...</td>\n",
       "      <td>...</td>\n",
       "    </tr>\n",
       "    <tr>\n",
       "      <th>495</th>\n",
       "      <td>59.976983</td>\n",
       "      <td>169.679741</td>\n",
       "      <td>7</td>\n",
       "    </tr>\n",
       "    <tr>\n",
       "      <th>496</th>\n",
       "      <td>66.423814</td>\n",
       "      <td>174.625574</td>\n",
       "      <td>0</td>\n",
       "    </tr>\n",
       "    <tr>\n",
       "      <th>497</th>\n",
       "      <td>53.604698</td>\n",
       "      <td>161.919208</td>\n",
       "      <td>8</td>\n",
       "    </tr>\n",
       "    <tr>\n",
       "      <th>498</th>\n",
       "      <td>50.433644</td>\n",
       "      <td>160.794875</td>\n",
       "      <td>4</td>\n",
       "    </tr>\n",
       "    <tr>\n",
       "      <th>499</th>\n",
       "      <td>60.224392</td>\n",
       "      <td>169.689709</td>\n",
       "      <td>7</td>\n",
       "    </tr>\n",
       "  </tbody>\n",
       "</table>\n",
       "<p>500 rows × 3 columns</p>\n",
       "</div>"
      ],
      "text/plain": [
       "        Weight      Height  cluster\n",
       "0    67.062924  176.086355        5\n",
       "1    68.804094  178.388669        9\n",
       "2    60.930863  170.284496        3\n",
       "3    59.733843  168.691992        7\n",
       "4    65.431230  173.763679        0\n",
       "..         ...         ...      ...\n",
       "495  59.976983  169.679741        7\n",
       "496  66.423814  174.625574        0\n",
       "497  53.604698  161.919208        8\n",
       "498  50.433644  160.794875        4\n",
       "499  60.224392  169.689709        7\n",
       "\n",
       "[500 rows x 3 columns]"
      ]
     },
     "execution_count": 23,
     "metadata": {},
     "output_type": "execute_result"
    }
   ],
   "source": [
    "frame"
   ]
  },
  {
   "cell_type": "code",
   "execution_count": 26,
   "id": "3e444cbe",
   "metadata": {},
   "outputs": [
    {
     "data": {
      "image/png": "[encoded data removed]",
      "text/plain": [
       "<Figure size 720x720 with 1 Axes>"
      ]
     },
     "metadata": {
      "needs_background": "light"
     },
     "output_type": "display_data"
    }
   ],
   "source": [
    "# just doing for 4 clusters not for ten.\n",
    "plt.figure(figsize=(10,10))\n",
    "plt.xlabel('Weight')\n",
    "plt.ylabel('Height')\n",
    "plt.title('Data Distribution')\n",
    "color=['blue','green','cyan', 'black']\n",
    "for k in range(0,4):\n",
    "    data = frame[frame[\"cluster\"]==k]\n",
    "    plt.scatter(data[\"Weight\"],data[\"Height\"],c=color[k])\n",
    "plt.show()"
   ]
  },
  {
   "cell_type": "code",
   "execution_count": 25,
   "id": "153f1ee7",
   "metadata": {},
   "outputs": [
    {
     "data": {
      "image/png": "[encoded data removed]",
      "text/plain": [
       "<Figure size 720x720 with 1 Axes>"
      ]
     },
     "metadata": {
      "needs_background": "light"
     },
     "output_type": "display_data"
    }
   ],
   "source": [
    "# for all 10 clusters.\n",
    "plt.figure(figsize=(10,10))\n",
    "plt.xlabel('Weight')\n",
    "plt.ylabel('Height')\n",
    "plt.title('Data Distribution')\n",
    "for k in range(0,10):\n",
    "    data = frame[frame[\"cluster\"]==k]\n",
    "    plt.scatter(data[\"Weight\"],data[\"Height\"])\n",
    "plt.show()"
   ]
  },
  {
   "cell_type": "code",
   "execution_count": 9,
   "id": "0d3c3594",
   "metadata": {},
   "outputs": [],
   "source": [
    "clusters = kmeans.fit_predict(data)"
   ]
  },
  {
   "cell_type": "code",
   "execution_count": 10,
   "id": "70210b3f",
   "metadata": {},
   "outputs": [
    {
     "data": {
      "text/plain": [
       "(10, 2)"
      ]
     },
     "execution_count": 10,
     "metadata": {},
     "output_type": "execute_result"
    }
   ],
   "source": [
    "kmeans.cluster_centers_.shape"
   ]
  },
  {
   "cell_type": "code",
   "execution_count": 11,
   "id": "0b23e6f8",
   "metadata": {},
   "outputs": [
    {
     "data": {
      "text/plain": [
       "array([5, 9, 3, 7, 0, 2, 6, 3, 3, 8, 2, 9, 6, 8, 3, 7, 5, 7, 8, 7, 7, 9,\n",
       "       6, 8, 7, 1, 9, 2, 1, 2, 6, 6, 9, 6, 2, 9, 8, 3, 8, 5, 4, 3, 7, 9,\n",
       "       6, 5, 3, 3, 5, 5, 8, 8, 6, 3, 7, 6, 6, 8, 1, 5, 5, 1, 5, 5, 9, 2,\n",
       "       7, 5, 7, 6, 4, 3, 4, 5, 4, 9, 6, 6, 3, 3, 8, 3, 8, 3, 7, 6, 8, 1,\n",
       "       0, 8, 8, 1, 5, 8, 7, 3, 5, 9, 5, 3, 4, 1, 0, 1, 7, 7, 2, 5, 3, 1,\n",
       "       8, 2, 8, 1, 5, 8, 5, 7, 6, 5, 3, 8, 0, 5, 8, 5, 5, 5, 5, 1, 7, 8,\n",
       "       6, 8, 1, 8, 3, 9, 3, 6, 9, 5, 0, 5, 2, 8, 3, 3, 6, 8, 1, 5, 7, 3,\n",
       "       7, 6, 2, 5, 2, 7, 5, 3, 0, 0, 6, 6, 9, 3, 8, 6, 9, 8, 5, 6, 3, 4,\n",
       "       3, 4, 4, 8, 9, 5, 0, 7, 2, 1, 2, 5, 6, 1, 5, 2, 4, 2, 6, 4, 3, 2,\n",
       "       7, 1, 1, 7, 2, 6, 7, 6, 6, 7, 2, 0, 2, 5, 0, 0, 7, 9, 6, 8, 1, 8,\n",
       "       3, 5, 6, 8, 6, 0, 1, 7, 1, 2, 6, 2, 2, 6, 7, 3, 7, 6, 8, 5, 0, 6,\n",
       "       2, 9, 8, 1, 7, 5, 3, 3, 3, 6, 5, 4, 7, 1, 8, 6, 1, 2, 3, 7, 5, 4,\n",
       "       5, 0, 3, 3, 8, 9, 3, 8, 5, 2, 5, 4, 2, 2, 7, 5, 0, 7, 5, 2, 5, 7,\n",
       "       6, 5, 7, 3, 3, 5, 4, 8, 5, 4, 4, 8, 7, 0, 9, 8, 3, 4, 0, 5, 6, 1,\n",
       "       1, 7, 8, 3, 5, 3, 8, 6, 8, 2, 2, 7, 7, 7, 6, 2, 4, 9, 3, 6, 8, 5,\n",
       "       3, 3, 5, 9, 6, 5, 6, 2, 7, 2, 8, 0, 0, 3, 0, 7, 5, 5, 0, 0, 7, 5,\n",
       "       3, 5, 7, 7, 8, 0, 7, 1, 1, 2, 7, 0, 9, 6, 6, 0, 2, 8, 7, 7, 3, 8,\n",
       "       3, 2, 7, 8, 4, 3, 1, 8, 2, 8, 8, 2, 2, 6, 6, 8, 4, 1, 8, 9, 1, 5,\n",
       "       3, 5, 8, 3, 5, 7, 9, 7, 2, 2, 8, 7, 8, 6, 6, 0, 1, 6, 3, 9, 1, 6,\n",
       "       6, 3, 0, 3, 5, 6, 9, 3, 9, 1, 2, 9, 8, 5, 3, 6, 3, 6, 5, 1, 7, 3,\n",
       "       6, 5, 0, 7, 7, 6, 3, 2, 8, 5, 2, 0, 1, 2, 6, 2, 8, 6, 7, 8, 6, 2,\n",
       "       6, 6, 0, 7, 4, 5, 6, 5, 7, 0, 2, 8, 3, 8, 6, 4, 7, 1, 7, 2, 6, 8,\n",
       "       2, 2, 2, 8, 5, 6, 2, 1, 3, 2, 2, 7, 0, 8, 4, 7])"
      ]
     },
     "execution_count": 11,
     "metadata": {},
     "output_type": "execute_result"
    }
   ],
   "source": [
    "clusters"
   ]
  },
  {
   "cell_type": "code",
   "execution_count": null,
   "id": "a94786f1",
   "metadata": {},
   "outputs": [],
   "source": []
  },
  {
   "cell_type": "markdown",
   "id": "22708cc9",
   "metadata": {},
   "source": [
    "# Gaussian Mixture Model"
   ]
  },
  {
   "cell_type": "code",
   "execution_count": 27,
   "id": "12fbac33",
   "metadata": {},
   "outputs": [],
   "source": [
    "from sklearn.mixture import GaussianMixture"
   ]
  },
  {
   "cell_type": "code",
   "execution_count": 36,
   "id": "5d1e5286",
   "metadata": {},
   "outputs": [],
   "source": [
    "gmm = GaussianMixture(n_components=4,random_state=100)"
   ]
  },
  {
   "cell_type": "code",
   "execution_count": 37,
   "id": "1863a3dd",
   "metadata": {},
   "outputs": [
    {
     "data": {
      "text/plain": [
       "GaussianMixture(n_components=4, random_state=100)"
      ]
     },
     "execution_count": 37,
     "metadata": {},
     "output_type": "execute_result"
    }
   ],
   "source": [
    "\n",
    "gmm"
   ]
  },
  {
   "cell_type": "code",
   "execution_count": 29,
   "id": "346460a9",
   "metadata": {},
   "outputs": [],
   "source": [
    "#clusters1 = gmm.fit_predict(data)"
   ]
  },
  {
   "cell_type": "code",
   "execution_count": 31,
   "id": "74553d0b",
   "metadata": {},
   "outputs": [
    {
     "data": {
      "text/plain": [
       "array([2, 1, 0, 2, 0, 3, 0, 2, 0, 2, 1, 1, 2, 0, 1, 1, 1, 0, 2, 1, 0, 2,\n",
       "       2, 2, 2, 0, 0, 2, 0, 0, 2, 3, 2, 1, 2, 1, 1, 1, 2, 0, 0, 0, 2, 2,\n",
       "       1, 3, 2, 1, 2, 2, 2, 2, 2, 2, 2, 0, 1, 0, 1, 2, 2, 0], dtype=int64)"
      ]
     },
     "execution_count": 31,
     "metadata": {},
     "output_type": "execute_result"
    }
   ],
   "source": [
    "#clusters1"
   ]
  },
  {
   "cell_type": "code",
   "execution_count": 38,
   "id": "f271ee7d",
   "metadata": {},
   "outputs": [
    {
     "data": {
      "text/plain": [
       "GaussianMixture(n_components=4, random_state=100)"
      ]
     },
     "execution_count": 38,
     "metadata": {},
     "output_type": "execute_result"
    }
   ],
   "source": [
    "gmm.fit(data)"
   ]
  },
  {
   "cell_type": "code",
   "execution_count": 39,
   "id": "b9c811a2",
   "metadata": {},
   "outputs": [],
   "source": [
    "labels = gmm.predict(data)"
   ]
  },
  {
   "cell_type": "code",
   "execution_count": 51,
   "id": "69be97b9",
   "metadata": {},
   "outputs": [
    {
     "data": {
      "text/plain": [
       "array([2, 1, 0, 2, 0, 3, 0, 2, 0, 2, 1, 1, 2, 0, 1, 1, 1, 0, 2, 1, 0, 2,\n",
       "       2, 2, 2, 0, 0, 2, 0, 0, 2, 3, 2, 1, 2, 1, 1, 1, 2, 0, 0, 0, 2, 2,\n",
       "       1, 3, 2, 1, 2, 2, 2, 2, 2, 2, 2, 0, 1, 0, 1, 2, 2, 0], dtype=int64)"
      ]
     },
     "execution_count": 51,
     "metadata": {},
     "output_type": "execute_result"
    }
   ],
   "source": [
    "labels"
   ]
  },
  {
   "cell_type": "code",
   "execution_count": 41,
   "id": "ef783308",
   "metadata": {},
   "outputs": [],
   "source": [
    "frame1 = pd.DataFrame(data)\n",
    "frame1['cluster'] = labels"
   ]
  },
  {
   "cell_type": "code",
   "execution_count": 42,
   "id": "991877a7",
   "metadata": {},
   "outputs": [
    {
     "data": {
      "text/html": [
       "<div>\n",
       "<style scoped>\n",
       "    .dataframe tbody tr th:only-of-type {\n",
       "        vertical-align: middle;\n",
       "    }\n",
       "\n",
       "    .dataframe tbody tr th {\n",
       "        vertical-align: top;\n",
       "    }\n",
       "\n",
       "    .dataframe thead th {\n",
       "        text-align: right;\n",
       "    }\n",
       "</style>\n",
       "<table border=\"1\" class=\"dataframe\">\n",
       "  <thead>\n",
       "    <tr style=\"text-align: right;\">\n",
       "      <th></th>\n",
       "      <th>Weight</th>\n",
       "      <th>Height</th>\n",
       "      <th>cluster</th>\n",
       "    </tr>\n",
       "  </thead>\n",
       "  <tbody>\n",
       "    <tr>\n",
       "      <th>2</th>\n",
       "      <td>60.930863</td>\n",
       "      <td>170.284496</td>\n",
       "      <td>2</td>\n",
       "    </tr>\n",
       "    <tr>\n",
       "      <th>7</th>\n",
       "      <td>61.041643</td>\n",
       "      <td>170.096682</td>\n",
       "      <td>1</td>\n",
       "    </tr>\n",
       "    <tr>\n",
       "      <th>8</th>\n",
       "      <td>62.633623</td>\n",
       "      <td>171.862972</td>\n",
       "      <td>0</td>\n",
       "    </tr>\n",
       "    <tr>\n",
       "      <th>14</th>\n",
       "      <td>60.659373</td>\n",
       "      <td>170.647659</td>\n",
       "      <td>2</td>\n",
       "    </tr>\n",
       "    <tr>\n",
       "      <th>37</th>\n",
       "      <td>62.286009</td>\n",
       "      <td>170.774430</td>\n",
       "      <td>0</td>\n",
       "    </tr>\n",
       "    <tr>\n",
       "      <th>...</th>\n",
       "      <td>...</td>\n",
       "      <td>...</td>\n",
       "      <td>...</td>\n",
       "    </tr>\n",
       "    <tr>\n",
       "      <th>434</th>\n",
       "      <td>62.650662</td>\n",
       "      <td>171.290617</td>\n",
       "      <td>0</td>\n",
       "    </tr>\n",
       "    <tr>\n",
       "      <th>439</th>\n",
       "      <td>60.846486</td>\n",
       "      <td>169.768519</td>\n",
       "      <td>1</td>\n",
       "    </tr>\n",
       "    <tr>\n",
       "      <th>446</th>\n",
       "      <td>61.517099</td>\n",
       "      <td>171.201389</td>\n",
       "      <td>2</td>\n",
       "    </tr>\n",
       "    <tr>\n",
       "      <th>474</th>\n",
       "      <td>60.404460</td>\n",
       "      <td>170.613083</td>\n",
       "      <td>2</td>\n",
       "    </tr>\n",
       "    <tr>\n",
       "      <th>492</th>\n",
       "      <td>62.311154</td>\n",
       "      <td>170.593457</td>\n",
       "      <td>0</td>\n",
       "    </tr>\n",
       "  </tbody>\n",
       "</table>\n",
       "<p>62 rows × 3 columns</p>\n",
       "</div>"
      ],
      "text/plain": [
       "        Weight      Height  cluster\n",
       "2    60.930863  170.284496        2\n",
       "7    61.041643  170.096682        1\n",
       "8    62.633623  171.862972        0\n",
       "14   60.659373  170.647659        2\n",
       "37   62.286009  170.774430        0\n",
       "..         ...         ...      ...\n",
       "434  62.650662  171.290617        0\n",
       "439  60.846486  169.768519        1\n",
       "446  61.517099  171.201389        2\n",
       "474  60.404460  170.613083        2\n",
       "492  62.311154  170.593457        0\n",
       "\n",
       "[62 rows x 3 columns]"
      ]
     },
     "execution_count": 42,
     "metadata": {},
     "output_type": "execute_result"
    }
   ],
   "source": [
    "frame1"
   ]
  },
  {
   "cell_type": "code",
   "execution_count": null,
   "id": "41823753",
   "metadata": {},
   "outputs": [],
   "source": [
    "# frame.columns = ['Weight', 'Height', 'cluster']"
   ]
  },
  {
   "cell_type": "code",
   "execution_count": 60,
   "id": "3d324a6f",
   "metadata": {},
   "outputs": [
    {
     "data": {
      "image/png": "[encoded data removed]",
      "text/plain": [
       "<Figure size 720x720 with 1 Axes>"
      ]
     },
     "metadata": {
      "needs_background": "light"
     },
     "output_type": "display_data"
    }
   ],
   "source": [
    "plt.figure(figsize=(10,10))\n",
    "plt.xlabel('Weight')\n",
    "plt.ylabel('Height')\n",
    "plt.title('Data Distribution')\n",
    "for k in range(0,4):\n",
    "    data = frame1[frame1[\"cluster\"]==k]\n",
    "    plt.scatter(data[\"Weight\"],data[\"Height\"])\n",
    "plt.show()"
   ]
  },
  {
   "cell_type": "code",
   "execution_count": null,
   "id": "e1cbbc90",
   "metadata": {},
   "outputs": [],
   "source": []
  },
  {
   "cell_type": "code",
   "execution_count": null,
   "id": "7d056df3",
   "metadata": {},
   "outputs": [],
   "source": []
  },
  {
   "cell_type": "code",
   "execution_count": null,
   "id": "27da9ee8",
   "metadata": {},
   "outputs": [],
   "source": []
  },
  {
   "cell_type": "code",
   "execution_count": null,
   "id": "7db8abc2",
   "metadata": {},
   "outputs": [],
   "source": []
  }
 ],
 "metadata": {
  "kernelspec": {
   "display_name": "Python 3",
   "language": "python",
   "name": "python3"
  },
  "language_info": {
   "codemirror_mode": {
    "name": "ipython",
    "version": 3
   },
   "file_extension": ".py",
   "mimetype": "text/x-python",
   "name": "python",
   "nbconvert_exporter": "python",
   "pygments_lexer": "ipython3",
   "version": "3.9.1"
  }
 },
 "nbformat": 4,
 "nbformat_minor": 5
}
