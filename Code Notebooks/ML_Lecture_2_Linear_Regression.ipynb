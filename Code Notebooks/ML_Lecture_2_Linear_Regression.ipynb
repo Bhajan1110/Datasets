{
 "cells": [
  {
   "cell_type": "markdown",
   "metadata": {
    "id": "I_SOUzqS5oMS"
   },
   "source": [
    "This is a Linear Regression Tutorial from both Statistical and Machine Learning point of view. The Dataset used to showcase the benefits of Linear Regression is the Diabetes dataset present in sklearn datasets\n",
    "\n",
    "Topics Covered-\n",
    "\n",
    "1) Train Test Split\n",
    "\n",
    "2) Pearson Correlations\n",
    "\n",
    "3) Heatmaps\n",
    "\n",
    "4) P-value analysis for variable selection\n",
    "\n",
    "5) R squared and Adjusted R squared\n"
   ]
  },
  {
   "cell_type": "code",
   "execution_count": null,
   "metadata": {
    "colab": {
     "base_uri": "https://localhost:8080/"
    },
    "id": "S7ijzvHTu4eM",
    "outputId": "b7995b95-8360-4e65-ab1b-9930aa920442"
   },
   "outputs": [
    {
     "name": "stderr",
     "output_type": "stream",
     "text": [
      "/usr/local/lib/python3.7/dist-packages/statsmodels/tools/_testing.py:19: FutureWarning: pandas.util.testing is deprecated. Use the functions in the public API at pandas.testing instead.\n",
      "  import pandas.util.testing as tm\n"
     ]
    }
   ],
   "source": [
    "import pandas as pd\n",
    "import numpy as np\n",
    "from sklearn import datasets, linear_model\n",
    "from sklearn.linear_model import LinearRegression\n",
    "import statsmodels.api as sm\n",
    "from scipy import stats\n",
    "import seaborn as sns\n",
    "import matplotlib.pyplot as plt"
   ]
  },
  {
   "cell_type": "code",
   "execution_count": null,
   "metadata": {
    "id": "qUFk-wMhu-5S"
   },
   "outputs": [],
   "source": [
    "diabetes = datasets.load_diabetes()\n",
    "X = diabetes.data\n",
    "y = diabetes.target"
   ]
  },
  {
   "cell_type": "code",
   "execution_count": null,
   "metadata": {
    "colab": {
     "base_uri": "https://localhost:8080/"
    },
    "id": "8wEX2jhnvC0Y",
    "outputId": "532a119a-8189-4003-f101-ca34b77eb5f3"
   },
   "outputs": [
    {
     "data": {
      "text/plain": [
       "((442, 10), (442,))"
      ]
     },
     "execution_count": 67,
     "metadata": {
      "tags": []
     },
     "output_type": "execute_result"
    }
   ],
   "source": [
    "X.shape, y.shape"
   ]
  },
  {
   "cell_type": "markdown",
   "metadata": {
    "id": "vsf81Cua4p59"
   },
   "source": [
    "Let's divide our dataset into train and test set"
   ]
  },
  {
   "cell_type": "code",
   "execution_count": null,
   "metadata": {
    "id": "fftHTDx84oxT"
   },
   "outputs": [],
   "source": [
    "from sklearn.model_selection import train_test_split\n",
    "train_X, test_X, train_Y, test_Y = train_test_split(X, y, random_state=100, test_size=0.2)"
   ]
  },
  {
   "cell_type": "code",
   "execution_count": null,
   "metadata": {
    "colab": {
     "base_uri": "https://localhost:8080/"
    },
    "id": "Te9TpQjW48zp",
    "outputId": "0e9baf07-9e38-4cf3-8998-ba6689f26be7"
   },
   "outputs": [
    {
     "data": {
      "text/plain": [
       "((353, 10), (89, 10), (353,), (89,))"
      ]
     },
     "execution_count": 69,
     "metadata": {
      "tags": []
     },
     "output_type": "execute_result"
    }
   ],
   "source": [
    "### Let's check the shapes\n",
    "train_X.shape, test_X.shape, train_Y.shape, test_Y.shape"
   ]
  },
  {
   "cell_type": "markdown",
   "metadata": {
    "id": "8ywZQUjivV8C"
   },
   "source": [
    "X and y are numpy arrays. X are the input variables and y is the dependent variable"
   ]
  },
  {
   "cell_type": "markdown",
   "metadata": {
    "id": "jeRpiap3vgKD"
   },
   "source": [
    "Exploratory Data Analysis"
   ]
  },
  {
   "cell_type": "code",
   "execution_count": null,
   "metadata": {
    "colab": {
     "base_uri": "https://localhost:8080/",
     "height": 359
    },
    "id": "1SqAlW-NvUbP",
    "outputId": "d8891df3-1427-4c37-fab2-f3e7b779e64d"
   },
   "outputs": [
    {
     "data": {
      "text/html": [
       "<div>\n",
       "<style scoped>\n",
       "    .dataframe tbody tr th:only-of-type {\n",
       "        vertical-align: middle;\n",
       "    }\n",
       "\n",
       "    .dataframe tbody tr th {\n",
       "        vertical-align: top;\n",
       "    }\n",
       "\n",
       "    .dataframe thead th {\n",
       "        text-align: right;\n",
       "    }\n",
       "</style>\n",
       "<table border=\"1\" class=\"dataframe\">\n",
       "  <thead>\n",
       "    <tr style=\"text-align: right;\">\n",
       "      <th></th>\n",
       "      <th>0</th>\n",
       "      <th>1</th>\n",
       "      <th>2</th>\n",
       "      <th>3</th>\n",
       "      <th>4</th>\n",
       "      <th>5</th>\n",
       "      <th>6</th>\n",
       "      <th>7</th>\n",
       "      <th>8</th>\n",
       "      <th>9</th>\n",
       "    </tr>\n",
       "  </thead>\n",
       "  <tbody>\n",
       "    <tr>\n",
       "      <th>0</th>\n",
       "      <td>1.000000</td>\n",
       "      <td>0.166117</td>\n",
       "      <td>0.152261</td>\n",
       "      <td>0.321903</td>\n",
       "      <td>0.283239</td>\n",
       "      <td>0.237212</td>\n",
       "      <td>-0.068921</td>\n",
       "      <td>0.207164</td>\n",
       "      <td>0.289142</td>\n",
       "      <td>0.304168</td>\n",
       "    </tr>\n",
       "    <tr>\n",
       "      <th>1</th>\n",
       "      <td>0.166117</td>\n",
       "      <td>1.000000</td>\n",
       "      <td>0.085246</td>\n",
       "      <td>0.214902</td>\n",
       "      <td>0.038061</td>\n",
       "      <td>0.161285</td>\n",
       "      <td>-0.364605</td>\n",
       "      <td>0.328691</td>\n",
       "      <td>0.120756</td>\n",
       "      <td>0.224749</td>\n",
       "    </tr>\n",
       "    <tr>\n",
       "      <th>2</th>\n",
       "      <td>0.152261</td>\n",
       "      <td>0.085246</td>\n",
       "      <td>1.000000</td>\n",
       "      <td>0.325748</td>\n",
       "      <td>0.223217</td>\n",
       "      <td>0.252080</td>\n",
       "      <td>-0.373039</td>\n",
       "      <td>0.394169</td>\n",
       "      <td>0.424873</td>\n",
       "      <td>0.360025</td>\n",
       "    </tr>\n",
       "    <tr>\n",
       "      <th>3</th>\n",
       "      <td>0.321903</td>\n",
       "      <td>0.214902</td>\n",
       "      <td>0.325748</td>\n",
       "      <td>1.000000</td>\n",
       "      <td>0.199931</td>\n",
       "      <td>0.146559</td>\n",
       "      <td>-0.160822</td>\n",
       "      <td>0.209640</td>\n",
       "      <td>0.360163</td>\n",
       "      <td>0.355181</td>\n",
       "    </tr>\n",
       "    <tr>\n",
       "      <th>4</th>\n",
       "      <td>0.283239</td>\n",
       "      <td>0.038061</td>\n",
       "      <td>0.223217</td>\n",
       "      <td>0.199931</td>\n",
       "      <td>1.000000</td>\n",
       "      <td>0.889760</td>\n",
       "      <td>0.043970</td>\n",
       "      <td>0.531183</td>\n",
       "      <td>0.541631</td>\n",
       "      <td>0.311254</td>\n",
       "    </tr>\n",
       "    <tr>\n",
       "      <th>5</th>\n",
       "      <td>0.237212</td>\n",
       "      <td>0.161285</td>\n",
       "      <td>0.252080</td>\n",
       "      <td>0.146559</td>\n",
       "      <td>0.889760</td>\n",
       "      <td>1.000000</td>\n",
       "      <td>-0.219411</td>\n",
       "      <td>0.662264</td>\n",
       "      <td>0.342756</td>\n",
       "      <td>0.287678</td>\n",
       "    </tr>\n",
       "    <tr>\n",
       "      <th>6</th>\n",
       "      <td>-0.068921</td>\n",
       "      <td>-0.364605</td>\n",
       "      <td>-0.373039</td>\n",
       "      <td>-0.160822</td>\n",
       "      <td>0.043970</td>\n",
       "      <td>-0.219411</td>\n",
       "      <td>1.000000</td>\n",
       "      <td>-0.748456</td>\n",
       "      <td>-0.389185</td>\n",
       "      <td>-0.281690</td>\n",
       "    </tr>\n",
       "    <tr>\n",
       "      <th>7</th>\n",
       "      <td>0.207164</td>\n",
       "      <td>0.328691</td>\n",
       "      <td>0.394169</td>\n",
       "      <td>0.209640</td>\n",
       "      <td>0.531183</td>\n",
       "      <td>0.662264</td>\n",
       "      <td>-0.748456</td>\n",
       "      <td>1.000000</td>\n",
       "      <td>0.611751</td>\n",
       "      <td>0.403887</td>\n",
       "    </tr>\n",
       "    <tr>\n",
       "      <th>8</th>\n",
       "      <td>0.289142</td>\n",
       "      <td>0.120756</td>\n",
       "      <td>0.424873</td>\n",
       "      <td>0.360163</td>\n",
       "      <td>0.541631</td>\n",
       "      <td>0.342756</td>\n",
       "      <td>-0.389185</td>\n",
       "      <td>0.611751</td>\n",
       "      <td>1.000000</td>\n",
       "      <td>0.470539</td>\n",
       "    </tr>\n",
       "    <tr>\n",
       "      <th>9</th>\n",
       "      <td>0.304168</td>\n",
       "      <td>0.224749</td>\n",
       "      <td>0.360025</td>\n",
       "      <td>0.355181</td>\n",
       "      <td>0.311254</td>\n",
       "      <td>0.287678</td>\n",
       "      <td>-0.281690</td>\n",
       "      <td>0.403887</td>\n",
       "      <td>0.470539</td>\n",
       "      <td>1.000000</td>\n",
       "    </tr>\n",
       "  </tbody>\n",
       "</table>\n",
       "</div>"
      ],
      "text/plain": [
       "          0         1         2  ...         7         8         9\n",
       "0  1.000000  0.166117  0.152261  ...  0.207164  0.289142  0.304168\n",
       "1  0.166117  1.000000  0.085246  ...  0.328691  0.120756  0.224749\n",
       "2  0.152261  0.085246  1.000000  ...  0.394169  0.424873  0.360025\n",
       "3  0.321903  0.214902  0.325748  ...  0.209640  0.360163  0.355181\n",
       "4  0.283239  0.038061  0.223217  ...  0.531183  0.541631  0.311254\n",
       "5  0.237212  0.161285  0.252080  ...  0.662264  0.342756  0.287678\n",
       "6 -0.068921 -0.364605 -0.373039  ... -0.748456 -0.389185 -0.281690\n",
       "7  0.207164  0.328691  0.394169  ...  1.000000  0.611751  0.403887\n",
       "8  0.289142  0.120756  0.424873  ...  0.611751  1.000000  0.470539\n",
       "9  0.304168  0.224749  0.360025  ...  0.403887  0.470539  1.000000\n",
       "\n",
       "[10 rows x 10 columns]"
      ]
     },
     "execution_count": 70,
     "metadata": {
      "tags": []
     },
     "output_type": "execute_result"
    }
   ],
   "source": [
    "pd.DataFrame(train_X).corr()"
   ]
  },
  {
   "cell_type": "code",
   "execution_count": null,
   "metadata": {
    "colab": {
     "base_uri": "https://localhost:8080/",
     "height": 286
    },
    "id": "7XN6wzxHvFOs",
    "outputId": "dc5930bd-9628-4ed9-a5e1-5254880c8696"
   },
   "outputs": [
    {
     "data": {
      "text/plain": [
       "<matplotlib.axes._subplots.AxesSubplot at 0x7fb3116a83d0>"
      ]
     },
     "execution_count": 71,
     "metadata": {
      "tags": []
     },
     "output_type": "execute_result"
    },
    {
     "data": {
      "image/png": "[encoded data removed]",
      "text/plain": [
       "<Figure size 432x288 with 2 Axes>"
      ]
     },
     "metadata": {
      "needs_background": "light",
      "tags": []
     },
     "output_type": "display_data"
    }
   ],
   "source": [
    "sns.heatmap(pd.DataFrame(np.concatenate((train_X, train_Y.reshape(-1,1)), axis=1)).corr())"
   ]
  },
  {
   "cell_type": "markdown",
   "metadata": {
    "id": "yU_e0co_2Dk-"
   },
   "source": [
    "Let's see the distributions of the independent variables and see if they are normally distributed"
   ]
  },
  {
   "cell_type": "code",
   "execution_count": null,
   "metadata": {
    "colab": {
     "base_uri": "https://localhost:8080/",
     "height": 608
    },
    "id": "a1E9BSb_14P3",
    "outputId": "6ee87bb5-dfd2-4c9f-a491-e2a0d6fd3e45"
   },
   "outputs": [
    {
     "data": {
      "image/png": "[encoded data removed]",
      "text/plain": [
       "<Figure size 720x720 with 10 Axes>"
      ]
     },
     "metadata": {
      "needs_background": "light",
      "tags": []
     },
     "output_type": "display_data"
    }
   ],
   "source": [
    "figure, axis = plt.subplots(5, 2, figsize=(10,10))\n",
    "for i in range(5):\n",
    "    for j in range(2):\n",
    "        axis[i, j].hist(train_X[:,(i+1)*(j+1)-1])\n",
    "        axis[i, j].set_title(str((i+1)*(j+1)))"
   ]
  },
  {
   "cell_type": "markdown",
   "metadata": {
    "id": "WcB5s0uI2Svt"
   },
   "source": [
    "X4 seems to be right skewed, so let's normalize this one"
   ]
  },
  {
   "cell_type": "code",
   "execution_count": null,
   "metadata": {
    "colab": {
     "base_uri": "https://localhost:8080/",
     "height": 350
    },
    "id": "P5eC2xjT2OTD",
    "outputId": "4dbad559-59db-48e4-9311-5a7f854eaa30"
   },
   "outputs": [
    {
     "data": {
      "text/plain": [
       "(array([ 4., 14., 38., 73., 71., 44., 40., 46., 18.,  5.]),\n",
       " array([-0.11923364, -0.09490777, -0.0705819 , -0.04625604, -0.02193017,\n",
       "         0.0023957 ,  0.02672157,  0.05104744,  0.0753733 ,  0.09969917,\n",
       "         0.12402504]),\n",
       " <a list of 10 Patch objects>)"
      ]
     },
     "execution_count": 73,
     "metadata": {
      "tags": []
     },
     "output_type": "execute_result"
    },
    {
     "data": {
      "image/png": "[encoded data removed]",
      "text/plain": [
       "<Figure size 432x288 with 1 Axes>"
      ]
     },
     "metadata": {
      "needs_background": "light",
      "tags": []
     },
     "output_type": "display_data"
    }
   ],
   "source": [
    "plt.hist(np.log(train_X[:,3]+1))"
   ]
  },
  {
   "cell_type": "markdown",
   "metadata": {
    "id": "Dkk41zMv2tS_"
   },
   "source": [
    "This looks normal, so let's assign the transformed X4 to the input X array"
   ]
  },
  {
   "cell_type": "code",
   "execution_count": null,
   "metadata": {
    "id": "c6PsAvIe2src"
   },
   "outputs": [],
   "source": [
    "train_X[:,3] = np.log(train_X[:,3]+1)\n",
    "test_X[:,3] = np.log(test_X[:,3]+1)"
   ]
  },
  {
   "cell_type": "markdown",
   "metadata": {
    "id": "OiO5zD2E295I"
   },
   "source": [
    "Similarly, let's do the transformation for X8"
   ]
  },
  {
   "cell_type": "code",
   "execution_count": null,
   "metadata": {
    "colab": {
     "base_uri": "https://localhost:8080/",
     "height": 350
    },
    "id": "a2oQ0qbi2OV2",
    "outputId": "37bab956-61fa-4475-ae2e-02dd301d5b29"
   },
   "outputs": [
    {
     "data": {
      "text/plain": [
       "(array([ 31., 136.,  11., 121.,  80.,  39.,   5.,  13.,   5.,   1.]),\n",
       " array([-0.07947025, -0.05452917, -0.02958808, -0.004647  ,  0.02029409,\n",
       "         0.04523517,  0.07017626,  0.09511734,  0.12005843,  0.14499951,\n",
       "         0.1699406 ]),\n",
       " <a list of 10 Patch objects>)"
      ]
     },
     "execution_count": 75,
     "metadata": {
      "tags": []
     },
     "output_type": "execute_result"
    },
    {
     "data": {
      "image/png": "[encoded data removed]",
      "text/plain": [
       "<Figure size 432x288 with 1 Axes>"
      ]
     },
     "metadata": {
      "needs_background": "light",
      "tags": []
     },
     "output_type": "display_data"
    }
   ],
   "source": [
    "plt.hist(np.log(X[:,7]+1))"
   ]
  },
  {
   "cell_type": "code",
   "execution_count": null,
   "metadata": {
    "id": "BqF0fRQ32OYm"
   },
   "outputs": [],
   "source": []
  },
  {
   "cell_type": "code",
   "execution_count": null,
   "metadata": {
    "id": "rS4P013H2Oay"
   },
   "outputs": [],
   "source": []
  },
  {
   "cell_type": "code",
   "execution_count": null,
   "metadata": {
    "colab": {
     "base_uri": "https://localhost:8080/",
     "height": 608
    },
    "id": "qtxAzPskxRVa",
    "outputId": "77c42c3b-1c0f-432a-8d0f-c380a4d3d866"
   },
   "outputs": [
    {
     "data": {
      "image/png": "[encoded data removed]",
      "text/plain": [
       "<Figure size 720x720 with 10 Axes>"
      ]
     },
     "metadata": {
      "needs_background": "light",
      "tags": []
     },
     "output_type": "display_data"
    }
   ],
   "source": [
    "figure, axis = plt.subplots(5, 2, figsize=(10,10))\n",
    "for i in range(5):\n",
    "    for j in range(2):\n",
    "        axis[i, j].scatter(train_X[:,(i+1)*(j+1)-1], train_Y)\n",
    "        axis[i, j].set_title(str((i+1)*(j+1)))"
   ]
  },
  {
   "cell_type": "code",
   "execution_count": null,
   "metadata": {
    "id": "DfXGKfnhxRXu"
   },
   "outputs": [],
   "source": []
  },
  {
   "cell_type": "code",
   "execution_count": null,
   "metadata": {
    "id": "BtJZtJEwxRb4"
   },
   "outputs": [],
   "source": []
  },
  {
   "cell_type": "code",
   "execution_count": null,
   "metadata": {
    "id": "hjxJ1f0RxRds"
   },
   "outputs": [],
   "source": []
  },
  {
   "cell_type": "code",
   "execution_count": null,
   "metadata": {
    "colab": {
     "base_uri": "https://localhost:8080/"
    },
    "id": "nu-nt0eTwOSf",
    "outputId": "6739b603-2ed4-42d0-f361-0ac99e9c7e85"
   },
   "outputs": [
    {
     "name": "stdout",
     "output_type": "stream",
     "text": [
      "                            OLS Regression Results                            \n",
      "==============================================================================\n",
      "Dep. Variable:                      y   R-squared:                       0.518\n",
      "Model:                            OLS   Adj. R-squared:                  0.507\n",
      "Method:                 Least Squares   F-statistic:                     46.27\n",
      "Date:                Sat, 15 May 2021   Prob (F-statistic):           3.83e-62\n",
      "Time:                        12:14:47   Log-Likelihood:                -2386.0\n",
      "No. Observations:                 442   AIC:                             4794.\n",
      "Df Residuals:                     431   BIC:                             4839.\n",
      "Df Model:                          10                                         \n",
      "Covariance Type:            nonrobust                                         \n",
      "==============================================================================\n",
      "                 coef    std err          t      P>|t|      [0.025      0.975]\n",
      "------------------------------------------------------------------------------\n",
      "const        152.1335      2.576     59.061      0.000     147.071     157.196\n",
      "x1           -10.0122     59.749     -0.168      0.867    -127.448     107.424\n",
      "x2          -239.8191     61.222     -3.917      0.000    -360.151    -119.488\n",
      "x3           519.8398     66.534      7.813      0.000     389.069     650.610\n",
      "x4           324.3904     65.422      4.958      0.000     195.805     452.976\n",
      "x5          -792.1842    416.684     -1.901      0.058   -1611.169      26.801\n",
      "x6           476.7458    339.035      1.406      0.160    -189.621    1143.113\n",
      "x7           101.0446    212.533      0.475      0.635    -316.685     518.774\n",
      "x8           177.0642    161.476      1.097      0.273    -140.313     494.442\n",
      "x9           751.2793    171.902      4.370      0.000     413.409    1089.150\n",
      "x10           67.6254     65.984      1.025      0.306     -62.065     197.316\n",
      "==============================================================================\n",
      "Omnibus:                        1.506   Durbin-Watson:                   2.029\n",
      "Prob(Omnibus):                  0.471   Jarque-Bera (JB):                1.404\n",
      "Skew:                           0.017   Prob(JB):                        0.496\n",
      "Kurtosis:                       2.726   Cond. No.                         227.\n",
      "==============================================================================\n",
      "\n",
      "Warnings:\n",
      "[1] Standard Errors assume that the covariance matrix of the errors is correctly specified.\n"
     ]
    }
   ],
   "source": [
    "X2 = sm.add_constant(X)\n",
    "est = sm.OLS(y, X2)\n",
    "est2 = est.fit()\n",
    "print(est2.summary())"
   ]
  },
  {
   "cell_type": "markdown",
   "metadata": {
    "id": "TWTZ7UDGyOye"
   },
   "source": [
    "Show that increasing the number of parameters always increases R squared"
   ]
  },
  {
   "cell_type": "code",
   "execution_count": null,
   "metadata": {
    "colab": {
     "base_uri": "https://localhost:8080/",
     "height": 282
    },
    "id": "YwPM2-05xsxA",
    "outputId": "64e3c72d-5bdd-4c53-9092-73ed8735b939"
   },
   "outputs": [
    {
     "data": {
      "text/plain": [
       "[<matplotlib.lines.Line2D at 0x7fb311512950>]"
      ]
     },
     "execution_count": 78,
     "metadata": {
      "tags": []
     },
     "output_type": "execute_result"
    },
    {
     "data": {
      "image/png": "[encoded data removed]",
      "text/plain": [
       "<Figure size 432x288 with 1 Axes>"
      ]
     },
     "metadata": {
      "needs_background": "light",
      "tags": []
     },
     "output_type": "display_data"
    }
   ],
   "source": [
    "r_squared_values = []\n",
    "adjusted_r_squared_values = []\n",
    "for i in range(1, 11):\n",
    "    est = sm.OLS(y, X2[:, :(i+1)])\n",
    "    est2 = est.fit()\n",
    "    r_squared_values.append(est2.rsquared)\n",
    "    adjusted_r_squared_values.append(est2.rsquared_adj)\n",
    "\n",
    "plt.plot(range(1,11), r_squared_values)\n",
    "plt.plot(range(1,11), adjusted_r_squared_values)"
   ]
  },
  {
   "cell_type": "markdown",
   "metadata": {
    "id": "vrZ54Myd1hq8"
   },
   "source": [
    "**Sklearn method of Linear Regression**"
   ]
  },
  {
   "cell_type": "code",
   "execution_count": null,
   "metadata": {
    "id": "qAsZknGr1hDh"
   },
   "outputs": [],
   "source": [
    "from sklearn.linear_model import LinearRegression"
   ]
  },
  {
   "cell_type": "code",
   "execution_count": null,
   "metadata": {
    "colab": {
     "base_uri": "https://localhost:8080/"
    },
    "id": "qss-TbAPy0kK",
    "outputId": "8319c3e1-dc80-4097-874b-866e1165b06e"
   },
   "outputs": [
    {
     "data": {
      "text/plain": [
       "LinearRegression(copy_X=True, fit_intercept=True, n_jobs=None, normalize=False)"
      ]
     },
     "execution_count": 80,
     "metadata": {
      "tags": []
     },
     "output_type": "execute_result"
    }
   ],
   "source": [
    "model = LinearRegression()\n",
    "model.fit(train_X,train_Y)"
   ]
  },
  {
   "cell_type": "code",
   "execution_count": null,
   "metadata": {
    "colab": {
     "base_uri": "https://localhost:8080/"
    },
    "id": "BFpO9enC353a",
    "outputId": "f95f95da-86db-4de1-ddaa-be7e8565e27c"
   },
   "outputs": [
    {
     "data": {
      "text/plain": [
       "array([ 75.49645361,  50.35292067, 182.57147205,  82.92015936,\n",
       "       114.26153467, 116.32756195, 165.24532564, 250.85330471,\n",
       "       104.51024058, 215.56129815, 209.0866834 , 176.51472781,\n",
       "       208.25340574, 220.3691542 , 103.03892476, 149.76189575,\n",
       "        58.6321711 ,  94.93726821, 194.01384214, 150.2570664 ,\n",
       "       256.92180371, 215.94675302,  97.26091403, 152.92120251,\n",
       "       232.40870062, 119.92517405, 283.94196783, 117.6494432 ,\n",
       "       194.61699003, 171.39740208, 127.09704176, 148.45451723,\n",
       "       134.18120684, 134.71177107, 180.21258744, 189.1687009 ,\n",
       "       239.0634963 , 157.84660809, 229.45172944, 197.61394044,\n",
       "       132.77232008, 158.00930566,  82.83912393, 143.14799159,\n",
       "        71.34217195, 190.4027467 , 143.2365803 ,  99.34825457,\n",
       "       237.25608291, 130.13359406, 254.86315954,  72.34351362,\n",
       "       210.7171494 , 147.39939543,  76.77024347, 158.65017596,\n",
       "       100.702482  , 291.13145965,  77.64638844, 127.49888144,\n",
       "        94.86430331, 148.56860268, 118.65244203, 233.55785009,\n",
       "       170.68876858, 136.34516801, 124.99011017, 111.10358839,\n",
       "        68.70795707, 137.17685577, 125.70538513,  66.38344476,\n",
       "        74.64078563, 194.41921124, 112.41131717, 170.84463872,\n",
       "       116.14502294,  67.48399564, 114.66024539,  79.65509332,\n",
       "        88.72082086, 106.80780414, 126.90213562, 109.32778935,\n",
       "       123.9660609 , 168.57147991, 162.77513134,  86.08593077,\n",
       "        74.82016525])"
      ]
     },
     "execution_count": 82,
     "metadata": {
      "tags": []
     },
     "output_type": "execute_result"
    }
   ],
   "source": [
    "model.predict(test_X)"
   ]
  },
  {
   "cell_type": "code",
   "execution_count": null,
   "metadata": {
    "id": "5yOOx-Fp37k5"
   },
   "outputs": [],
   "source": [
    "from sklearn.metrics import mean_squared_error"
   ]
  },
  {
   "cell_type": "code",
   "execution_count": null,
   "metadata": {
    "colab": {
     "base_uri": "https://localhost:8080/"
    },
    "id": "amp-KQH24BBf",
    "outputId": "c3790d18-0113-4272-839e-9145a1db685f"
   },
   "outputs": [
    {
     "data": {
      "text/plain": [
       "2637.696918141803"
      ]
     },
     "execution_count": 84,
     "metadata": {
      "tags": []
     },
     "output_type": "execute_result"
    }
   ],
   "source": [
    "mean_squared_error(test_Y, model.predict(test_X))"
   ]
  },
  {
   "cell_type": "code",
   "execution_count": null,
   "metadata": {
    "colab": {
     "base_uri": "https://localhost:8080/"
    },
    "id": "SW5HDvKR4FY_",
    "outputId": "9cda7386-9523-4f07-8e13-9db3a439aeb6"
   },
   "outputs": [
    {
     "name": "stdout",
     "output_type": "stream",
     "text": [
      "Train R squared 0.5163244651700238\n",
      "Test R squared 0.5036350663725038\n"
     ]
    }
   ],
   "source": [
    "### Find R2 value\n",
    "\n",
    "print(\"Train R squared\", 1 - mean_squared_error(train_Y, model.predict(train_X)) / mean_squared_error(train_Y, [train_Y.mean()]*train_Y.shape[0]))\n",
    "print(\"Test R squared\", 1 - mean_squared_error(test_Y, model.predict(test_X)) / mean_squared_error(test_Y, [test_Y.mean()]*test_Y.shape[0]))"
   ]
  },
  {
   "cell_type": "code",
   "execution_count": null,
   "metadata": {
    "id": "cZ2sEjfY4QwH"
   },
   "outputs": [],
   "source": []
  }
 ],
 "metadata": {
  "colab": {
   "name": "ML_Lecture_2_Linear Regression",
   "provenance": []
  },
  "kernelspec": {
   "display_name": "Python 3",
   "language": "python",
   "name": "python3"
  },
  "language_info": {
   "codemirror_mode": {
    "name": "ipython",
    "version": 3
   },
   "file_extension": ".py",
   "mimetype": "text/x-python",
   "name": "python",
   "nbconvert_exporter": "python",
   "pygments_lexer": "ipython3",
   "version": "3.9.1"
  }
 },
 "nbformat": 4,
 "nbformat_minor": 1
}
