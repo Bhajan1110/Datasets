{
 "cells": [
  {
   "cell_type": "markdown",
   "id": "319e7760",
   "metadata": {},
   "source": [
    "# PCA"
   ]
  },
  {
   "cell_type": "code",
   "execution_count": 2,
   "id": "3c6f509f",
   "metadata": {},
   "outputs": [],
   "source": [
    "import pandas as pd\n",
    "import numpy as np\n",
    "import random as rd\n",
    "from sklearn.decomposition import PCA\n",
    "from sklearn import preprocessing\n",
    "import matplotlib.pyplot as plt"
   ]
  },
  {
   "cell_type": "code",
   "execution_count": null,
   "id": "77d0868d",
   "metadata": {},
   "outputs": [],
   "source": [
    "# Data Generation Code\n",
    "## Columns are individual samples (i.e. cells)\n",
    "## Rows are measurements taken for all the samples (i.e. genes)\n"
   ]
  },
  {
   "cell_type": "code",
   "execution_count": 7,
   "id": "c6b63c08",
   "metadata": {},
   "outputs": [
    {
     "data": {
      "text/plain": [
       "['gene1',\n",
       " 'gene2',\n",
       " 'gene3',\n",
       " 'gene4',\n",
       " 'gene5',\n",
       " 'gene6',\n",
       " 'gene7',\n",
       " 'gene8',\n",
       " 'gene9',\n",
       " 'gene10',\n",
       " 'gene11',\n",
       " 'gene12',\n",
       " 'gene13',\n",
       " 'gene14',\n",
       " 'gene15',\n",
       " 'gene16',\n",
       " 'gene17',\n",
       " 'gene18',\n",
       " 'gene19',\n",
       " 'gene20',\n",
       " 'gene21',\n",
       " 'gene22',\n",
       " 'gene23',\n",
       " 'gene24',\n",
       " 'gene25',\n",
       " 'gene26',\n",
       " 'gene27',\n",
       " 'gene28',\n",
       " 'gene29',\n",
       " 'gene30',\n",
       " 'gene31',\n",
       " 'gene32',\n",
       " 'gene33',\n",
       " 'gene34',\n",
       " 'gene35',\n",
       " 'gene36',\n",
       " 'gene37',\n",
       " 'gene38',\n",
       " 'gene39',\n",
       " 'gene40',\n",
       " 'gene41',\n",
       " 'gene42',\n",
       " 'gene43',\n",
       " 'gene44',\n",
       " 'gene45',\n",
       " 'gene46',\n",
       " 'gene47',\n",
       " 'gene48',\n",
       " 'gene49',\n",
       " 'gene50',\n",
       " 'gene51',\n",
       " 'gene52',\n",
       " 'gene53',\n",
       " 'gene54',\n",
       " 'gene55',\n",
       " 'gene56',\n",
       " 'gene57',\n",
       " 'gene58',\n",
       " 'gene59',\n",
       " 'gene60',\n",
       " 'gene61',\n",
       " 'gene62',\n",
       " 'gene63',\n",
       " 'gene64',\n",
       " 'gene65',\n",
       " 'gene66',\n",
       " 'gene67',\n",
       " 'gene68',\n",
       " 'gene69',\n",
       " 'gene70',\n",
       " 'gene71',\n",
       " 'gene72',\n",
       " 'gene73',\n",
       " 'gene74',\n",
       " 'gene75',\n",
       " 'gene76',\n",
       " 'gene77',\n",
       " 'gene78',\n",
       " 'gene79',\n",
       " 'gene80',\n",
       " 'gene81',\n",
       " 'gene82',\n",
       " 'gene83',\n",
       " 'gene84',\n",
       " 'gene85',\n",
       " 'gene86',\n",
       " 'gene87',\n",
       " 'gene88',\n",
       " 'gene89',\n",
       " 'gene90',\n",
       " 'gene91',\n",
       " 'gene92',\n",
       " 'gene93',\n",
       " 'gene94',\n",
       " 'gene95',\n",
       " 'gene96',\n",
       " 'gene97',\n",
       " 'gene98',\n",
       " 'gene99',\n",
       " 'gene100']"
      ]
     },
     "execution_count": 7,
     "metadata": {},
     "output_type": "execute_result"
    }
   ],
   "source": [
    "genes = ['gene' + str(i) for i in range(1,101)]\n",
    "genes"
   ]
  },
  {
   "cell_type": "code",
   "execution_count": 8,
   "id": "b9297a05",
   "metadata": {},
   "outputs": [],
   "source": [
    "wt = ['wt' + str(i) for i in range(1,6)]\n",
    "ko = ['ko' + str(i) for i in range(1,6)]"
   ]
  },
  {
   "cell_type": "code",
   "execution_count": 9,
   "id": "f28fa852",
   "metadata": {},
   "outputs": [
    {
     "data": {
      "text/plain": [
       "['wt1', 'wt2', 'wt3', 'wt4', 'wt5']"
      ]
     },
     "execution_count": 9,
     "metadata": {},
     "output_type": "execute_result"
    }
   ],
   "source": [
    "wt"
   ]
  },
  {
   "cell_type": "code",
   "execution_count": 10,
   "id": "357da9fa",
   "metadata": {},
   "outputs": [
    {
     "data": {
      "text/plain": [
       "['ko1', 'ko2', 'ko3', 'ko4', 'ko5']"
      ]
     },
     "execution_count": 10,
     "metadata": {},
     "output_type": "execute_result"
    }
   ],
   "source": [
    "ko"
   ]
  },
  {
   "cell_type": "code",
   "execution_count": 13,
   "id": "c730c89b",
   "metadata": {},
   "outputs": [],
   "source": [
    "dataset = pd.DataFrame(columns=[*wt, *ko], index=genes)"
   ]
  },
  {
   "cell_type": "code",
   "execution_count": 15,
   "id": "2d69e9a5",
   "metadata": {},
   "outputs": [
    {
     "data": {
      "text/html": [
       "<div>\n",
       "<style scoped>\n",
       "    .dataframe tbody tr th:only-of-type {\n",
       "        vertical-align: middle;\n",
       "    }\n",
       "\n",
       "    .dataframe tbody tr th {\n",
       "        vertical-align: top;\n",
       "    }\n",
       "\n",
       "    .dataframe thead th {\n",
       "        text-align: right;\n",
       "    }\n",
       "</style>\n",
       "<table border=\"1\" class=\"dataframe\">\n",
       "  <thead>\n",
       "    <tr style=\"text-align: right;\">\n",
       "      <th></th>\n",
       "      <th>wt1</th>\n",
       "      <th>wt2</th>\n",
       "      <th>wt3</th>\n",
       "      <th>wt4</th>\n",
       "      <th>wt5</th>\n",
       "      <th>ko1</th>\n",
       "      <th>ko2</th>\n",
       "      <th>ko3</th>\n",
       "      <th>ko4</th>\n",
       "      <th>ko5</th>\n",
       "    </tr>\n",
       "  </thead>\n",
       "  <tbody>\n",
       "    <tr>\n",
       "      <th>gene1</th>\n",
       "      <td>NaN</td>\n",
       "      <td>NaN</td>\n",
       "      <td>NaN</td>\n",
       "      <td>NaN</td>\n",
       "      <td>NaN</td>\n",
       "      <td>NaN</td>\n",
       "      <td>NaN</td>\n",
       "      <td>NaN</td>\n",
       "      <td>NaN</td>\n",
       "      <td>NaN</td>\n",
       "    </tr>\n",
       "    <tr>\n",
       "      <th>gene2</th>\n",
       "      <td>NaN</td>\n",
       "      <td>NaN</td>\n",
       "      <td>NaN</td>\n",
       "      <td>NaN</td>\n",
       "      <td>NaN</td>\n",
       "      <td>NaN</td>\n",
       "      <td>NaN</td>\n",
       "      <td>NaN</td>\n",
       "      <td>NaN</td>\n",
       "      <td>NaN</td>\n",
       "    </tr>\n",
       "    <tr>\n",
       "      <th>gene3</th>\n",
       "      <td>NaN</td>\n",
       "      <td>NaN</td>\n",
       "      <td>NaN</td>\n",
       "      <td>NaN</td>\n",
       "      <td>NaN</td>\n",
       "      <td>NaN</td>\n",
       "      <td>NaN</td>\n",
       "      <td>NaN</td>\n",
       "      <td>NaN</td>\n",
       "      <td>NaN</td>\n",
       "    </tr>\n",
       "    <tr>\n",
       "      <th>gene4</th>\n",
       "      <td>NaN</td>\n",
       "      <td>NaN</td>\n",
       "      <td>NaN</td>\n",
       "      <td>NaN</td>\n",
       "      <td>NaN</td>\n",
       "      <td>NaN</td>\n",
       "      <td>NaN</td>\n",
       "      <td>NaN</td>\n",
       "      <td>NaN</td>\n",
       "      <td>NaN</td>\n",
       "    </tr>\n",
       "    <tr>\n",
       "      <th>gene5</th>\n",
       "      <td>NaN</td>\n",
       "      <td>NaN</td>\n",
       "      <td>NaN</td>\n",
       "      <td>NaN</td>\n",
       "      <td>NaN</td>\n",
       "      <td>NaN</td>\n",
       "      <td>NaN</td>\n",
       "      <td>NaN</td>\n",
       "      <td>NaN</td>\n",
       "      <td>NaN</td>\n",
       "    </tr>\n",
       "    <tr>\n",
       "      <th>...</th>\n",
       "      <td>...</td>\n",
       "      <td>...</td>\n",
       "      <td>...</td>\n",
       "      <td>...</td>\n",
       "      <td>...</td>\n",
       "      <td>...</td>\n",
       "      <td>...</td>\n",
       "      <td>...</td>\n",
       "      <td>...</td>\n",
       "      <td>...</td>\n",
       "    </tr>\n",
       "    <tr>\n",
       "      <th>gene96</th>\n",
       "      <td>NaN</td>\n",
       "      <td>NaN</td>\n",
       "      <td>NaN</td>\n",
       "      <td>NaN</td>\n",
       "      <td>NaN</td>\n",
       "      <td>NaN</td>\n",
       "      <td>NaN</td>\n",
       "      <td>NaN</td>\n",
       "      <td>NaN</td>\n",
       "      <td>NaN</td>\n",
       "    </tr>\n",
       "    <tr>\n",
       "      <th>gene97</th>\n",
       "      <td>NaN</td>\n",
       "      <td>NaN</td>\n",
       "      <td>NaN</td>\n",
       "      <td>NaN</td>\n",
       "      <td>NaN</td>\n",
       "      <td>NaN</td>\n",
       "      <td>NaN</td>\n",
       "      <td>NaN</td>\n",
       "      <td>NaN</td>\n",
       "      <td>NaN</td>\n",
       "    </tr>\n",
       "    <tr>\n",
       "      <th>gene98</th>\n",
       "      <td>NaN</td>\n",
       "      <td>NaN</td>\n",
       "      <td>NaN</td>\n",
       "      <td>NaN</td>\n",
       "      <td>NaN</td>\n",
       "      <td>NaN</td>\n",
       "      <td>NaN</td>\n",
       "      <td>NaN</td>\n",
       "      <td>NaN</td>\n",
       "      <td>NaN</td>\n",
       "    </tr>\n",
       "    <tr>\n",
       "      <th>gene99</th>\n",
       "      <td>NaN</td>\n",
       "      <td>NaN</td>\n",
       "      <td>NaN</td>\n",
       "      <td>NaN</td>\n",
       "      <td>NaN</td>\n",
       "      <td>NaN</td>\n",
       "      <td>NaN</td>\n",
       "      <td>NaN</td>\n",
       "      <td>NaN</td>\n",
       "      <td>NaN</td>\n",
       "    </tr>\n",
       "    <tr>\n",
       "      <th>gene100</th>\n",
       "      <td>NaN</td>\n",
       "      <td>NaN</td>\n",
       "      <td>NaN</td>\n",
       "      <td>NaN</td>\n",
       "      <td>NaN</td>\n",
       "      <td>NaN</td>\n",
       "      <td>NaN</td>\n",
       "      <td>NaN</td>\n",
       "      <td>NaN</td>\n",
       "      <td>NaN</td>\n",
       "    </tr>\n",
       "  </tbody>\n",
       "</table>\n",
       "<p>100 rows × 10 columns</p>\n",
       "</div>"
      ],
      "text/plain": [
       "         wt1  wt2  wt3  wt4  wt5  ko1  ko2  ko3  ko4  ko5\n",
       "gene1    NaN  NaN  NaN  NaN  NaN  NaN  NaN  NaN  NaN  NaN\n",
       "gene2    NaN  NaN  NaN  NaN  NaN  NaN  NaN  NaN  NaN  NaN\n",
       "gene3    NaN  NaN  NaN  NaN  NaN  NaN  NaN  NaN  NaN  NaN\n",
       "gene4    NaN  NaN  NaN  NaN  NaN  NaN  NaN  NaN  NaN  NaN\n",
       "gene5    NaN  NaN  NaN  NaN  NaN  NaN  NaN  NaN  NaN  NaN\n",
       "...      ...  ...  ...  ...  ...  ...  ...  ...  ...  ...\n",
       "gene96   NaN  NaN  NaN  NaN  NaN  NaN  NaN  NaN  NaN  NaN\n",
       "gene97   NaN  NaN  NaN  NaN  NaN  NaN  NaN  NaN  NaN  NaN\n",
       "gene98   NaN  NaN  NaN  NaN  NaN  NaN  NaN  NaN  NaN  NaN\n",
       "gene99   NaN  NaN  NaN  NaN  NaN  NaN  NaN  NaN  NaN  NaN\n",
       "gene100  NaN  NaN  NaN  NaN  NaN  NaN  NaN  NaN  NaN  NaN\n",
       "\n",
       "[100 rows x 10 columns]"
      ]
     },
     "execution_count": 15,
     "metadata": {},
     "output_type": "execute_result"
    }
   ],
   "source": [
    "dataset"
   ]
  },
  {
   "cell_type": "code",
   "execution_count": 19,
   "id": "bf14d457",
   "metadata": {},
   "outputs": [],
   "source": [
    "for gene in dataset.index:\n",
    "    dataset.loc[gene,'wt1':'wt5'] = np.random.poisson(lam=rd.randrange(10,1000), size=5)\n",
    "    dataset.loc[gene,'ko1':'ko5'] = np.random.poisson(lam=rd.randrange(10,1000), size=5)"
   ]
  },
  {
   "cell_type": "code",
   "execution_count": 21,
   "id": "5a9ddfa4",
   "metadata": {},
   "outputs": [
    {
     "data": {
      "text/html": [
       "<div>\n",
       "<style scoped>\n",
       "    .dataframe tbody tr th:only-of-type {\n",
       "        vertical-align: middle;\n",
       "    }\n",
       "\n",
       "    .dataframe tbody tr th {\n",
       "        vertical-align: top;\n",
       "    }\n",
       "\n",
       "    .dataframe thead th {\n",
       "        text-align: right;\n",
       "    }\n",
       "</style>\n",
       "<table border=\"1\" class=\"dataframe\">\n",
       "  <thead>\n",
       "    <tr style=\"text-align: right;\">\n",
       "      <th></th>\n",
       "      <th>wt1</th>\n",
       "      <th>wt2</th>\n",
       "      <th>wt3</th>\n",
       "      <th>wt4</th>\n",
       "      <th>wt5</th>\n",
       "      <th>ko1</th>\n",
       "      <th>ko2</th>\n",
       "      <th>ko3</th>\n",
       "      <th>ko4</th>\n",
       "      <th>ko5</th>\n",
       "    </tr>\n",
       "  </thead>\n",
       "  <tbody>\n",
       "    <tr>\n",
       "      <th>gene1</th>\n",
       "      <td>170</td>\n",
       "      <td>153</td>\n",
       "      <td>156</td>\n",
       "      <td>146</td>\n",
       "      <td>158</td>\n",
       "      <td>418</td>\n",
       "      <td>361</td>\n",
       "      <td>340</td>\n",
       "      <td>362</td>\n",
       "      <td>353</td>\n",
       "    </tr>\n",
       "    <tr>\n",
       "      <th>gene2</th>\n",
       "      <td>752</td>\n",
       "      <td>762</td>\n",
       "      <td>735</td>\n",
       "      <td>789</td>\n",
       "      <td>753</td>\n",
       "      <td>850</td>\n",
       "      <td>907</td>\n",
       "      <td>868</td>\n",
       "      <td>897</td>\n",
       "      <td>885</td>\n",
       "    </tr>\n",
       "    <tr>\n",
       "      <th>gene3</th>\n",
       "      <td>532</td>\n",
       "      <td>503</td>\n",
       "      <td>518</td>\n",
       "      <td>511</td>\n",
       "      <td>527</td>\n",
       "      <td>194</td>\n",
       "      <td>188</td>\n",
       "      <td>198</td>\n",
       "      <td>214</td>\n",
       "      <td>197</td>\n",
       "    </tr>\n",
       "    <tr>\n",
       "      <th>gene4</th>\n",
       "      <td>16</td>\n",
       "      <td>25</td>\n",
       "      <td>23</td>\n",
       "      <td>22</td>\n",
       "      <td>16</td>\n",
       "      <td>886</td>\n",
       "      <td>887</td>\n",
       "      <td>910</td>\n",
       "      <td>965</td>\n",
       "      <td>903</td>\n",
       "    </tr>\n",
       "    <tr>\n",
       "      <th>gene5</th>\n",
       "      <td>178</td>\n",
       "      <td>201</td>\n",
       "      <td>161</td>\n",
       "      <td>160</td>\n",
       "      <td>180</td>\n",
       "      <td>696</td>\n",
       "      <td>652</td>\n",
       "      <td>672</td>\n",
       "      <td>646</td>\n",
       "      <td>642</td>\n",
       "    </tr>\n",
       "    <tr>\n",
       "      <th>...</th>\n",
       "      <td>...</td>\n",
       "      <td>...</td>\n",
       "      <td>...</td>\n",
       "      <td>...</td>\n",
       "      <td>...</td>\n",
       "      <td>...</td>\n",
       "      <td>...</td>\n",
       "      <td>...</td>\n",
       "      <td>...</td>\n",
       "      <td>...</td>\n",
       "    </tr>\n",
       "    <tr>\n",
       "      <th>gene96</th>\n",
       "      <td>890</td>\n",
       "      <td>897</td>\n",
       "      <td>870</td>\n",
       "      <td>872</td>\n",
       "      <td>915</td>\n",
       "      <td>739</td>\n",
       "      <td>874</td>\n",
       "      <td>770</td>\n",
       "      <td>769</td>\n",
       "      <td>769</td>\n",
       "    </tr>\n",
       "    <tr>\n",
       "      <th>gene97</th>\n",
       "      <td>569</td>\n",
       "      <td>569</td>\n",
       "      <td>605</td>\n",
       "      <td>564</td>\n",
       "      <td>576</td>\n",
       "      <td>35</td>\n",
       "      <td>25</td>\n",
       "      <td>24</td>\n",
       "      <td>18</td>\n",
       "      <td>26</td>\n",
       "    </tr>\n",
       "    <tr>\n",
       "      <th>gene98</th>\n",
       "      <td>954</td>\n",
       "      <td>946</td>\n",
       "      <td>913</td>\n",
       "      <td>956</td>\n",
       "      <td>986</td>\n",
       "      <td>895</td>\n",
       "      <td>934</td>\n",
       "      <td>940</td>\n",
       "      <td>881</td>\n",
       "      <td>890</td>\n",
       "    </tr>\n",
       "    <tr>\n",
       "      <th>gene99</th>\n",
       "      <td>221</td>\n",
       "      <td>233</td>\n",
       "      <td>230</td>\n",
       "      <td>236</td>\n",
       "      <td>239</td>\n",
       "      <td>993</td>\n",
       "      <td>1011</td>\n",
       "      <td>917</td>\n",
       "      <td>1025</td>\n",
       "      <td>999</td>\n",
       "    </tr>\n",
       "    <tr>\n",
       "      <th>gene100</th>\n",
       "      <td>524</td>\n",
       "      <td>468</td>\n",
       "      <td>526</td>\n",
       "      <td>493</td>\n",
       "      <td>524</td>\n",
       "      <td>37</td>\n",
       "      <td>40</td>\n",
       "      <td>24</td>\n",
       "      <td>32</td>\n",
       "      <td>22</td>\n",
       "    </tr>\n",
       "  </tbody>\n",
       "</table>\n",
       "<p>100 rows × 10 columns</p>\n",
       "</div>"
      ],
      "text/plain": [
       "         wt1  wt2  wt3  wt4  wt5  ko1   ko2  ko3   ko4  ko5\n",
       "gene1    170  153  156  146  158  418   361  340   362  353\n",
       "gene2    752  762  735  789  753  850   907  868   897  885\n",
       "gene3    532  503  518  511  527  194   188  198   214  197\n",
       "gene4     16   25   23   22   16  886   887  910   965  903\n",
       "gene5    178  201  161  160  180  696   652  672   646  642\n",
       "...      ...  ...  ...  ...  ...  ...   ...  ...   ...  ...\n",
       "gene96   890  897  870  872  915  739   874  770   769  769\n",
       "gene97   569  569  605  564  576   35    25   24    18   26\n",
       "gene98   954  946  913  956  986  895   934  940   881  890\n",
       "gene99   221  233  230  236  239  993  1011  917  1025  999\n",
       "gene100  524  468  526  493  524   37    40   24    32   22\n",
       "\n",
       "[100 rows x 10 columns]"
      ]
     },
     "execution_count": 21,
     "metadata": {},
     "output_type": "execute_result"
    }
   ],
   "source": [
    "dataset"
   ]
  },
  {
   "cell_type": "code",
   "execution_count": 22,
   "id": "482bff0d",
   "metadata": {},
   "outputs": [
    {
     "data": {
      "text/plain": [
       "(100, 10)"
      ]
     },
     "execution_count": 22,
     "metadata": {},
     "output_type": "execute_result"
    }
   ],
   "source": [
    "dataset.shape"
   ]
  },
  {
   "cell_type": "code",
   "execution_count": 23,
   "id": "bd32f26d",
   "metadata": {},
   "outputs": [],
   "source": [
    "# First center and scale the data, we use samples as columns in the dataset that's why we are using transpose  \n",
    "scaled_data = preprocessing.scale(dataset.T)"
   ]
  },
  {
   "cell_type": "code",
   "execution_count": 24,
   "id": "ac9379c2",
   "metadata": {},
   "outputs": [
    {
     "data": {
      "text/plain": [
       "PCA()"
      ]
     },
     "execution_count": 24,
     "metadata": {},
     "output_type": "execute_result"
    }
   ],
   "source": [
    "pca = PCA() # create a PCA object\n",
    "pca.fit(scaled_data) # do the math"
   ]
  },
  {
   "cell_type": "code",
   "execution_count": 25,
   "id": "3ab980a1",
   "metadata": {},
   "outputs": [],
   "source": [
    "pca_data = pca.transform(scaled_data) # get PCA coordinates for scaled_data"
   ]
  },
  {
   "cell_type": "code",
   "execution_count": 26,
   "id": "47b693b8",
   "metadata": {},
   "outputs": [
    {
     "data": {
      "text/plain": [
       "array([[ 9.56855235e+00, -1.54095717e+00,  9.21370431e-01,\n",
       "        -7.17059246e-02, -5.69957289e-01,  1.55984157e+00,\n",
       "         1.33918719e+00, -8.49278952e-01, -1.71234821e-02,\n",
       "         1.70346461e-15],\n",
       "       [ 9.09668963e+00,  3.63804422e+00,  4.38745491e-01,\n",
       "         1.52622313e+00, -8.81896961e-01, -8.52439967e-01,\n",
       "         5.09647702e-01, -7.63338973e-02,  1.98925619e-01,\n",
       "         9.14650720e-16],\n",
       "       [ 9.09698399e+00, -7.64043242e-01,  2.84411190e+00,\n",
       "         6.03611254e-02,  1.80418847e+00, -3.10211337e-01,\n",
       "        -9.82227170e-01,  4.05684679e-01, -1.77477491e-01,\n",
       "         7.07180074e-16],\n",
       "       [ 9.67601448e+00, -6.09119918e-01, -1.88938230e+00,\n",
       "        -1.26837626e+00,  3.58730175e-01, -1.14507259e-01,\n",
       "         4.29361776e-01,  1.34110157e+00,  7.75547018e-01,\n",
       "         1.27994494e-15],\n",
       "       [ 9.83079719e+00, -5.91849463e-01, -2.19209946e+00,\n",
       "        -2.61907810e-01, -6.43227375e-01, -3.18788229e-01,\n",
       "        -1.27422498e+00, -8.26574603e-01, -7.82947185e-01,\n",
       "         9.40186282e-16],\n",
       "       [-9.52298325e+00,  2.51080889e+00, -1.24349738e-01,\n",
       "        -7.52518151e-01,  1.54569446e-01,  1.86315608e+00,\n",
       "        -5.14274922e-01,  5.50789126e-01, -4.71142346e-01,\n",
       "        -8.55363999e-16],\n",
       "       [-9.16279572e+00, -1.93339026e+00, -7.11459477e-01,\n",
       "         2.75587115e+00, -8.95563937e-02, -3.58598036e-02,\n",
       "         2.89145325e-01,  7.78808565e-01, -4.50927743e-01,\n",
       "        -8.57023981e-16],\n",
       "       [-9.27297731e+00, -6.73478885e-01,  4.23010717e-01,\n",
       "         2.81224454e-01, -1.02578375e+00,  1.55238389e-01,\n",
       "        -1.07518135e+00, -5.70671075e-01,  1.37305905e+00,\n",
       "        -1.04869618e-15],\n",
       "       [-9.57822317e+00, -5.67172623e-01,  1.26018227e+00,\n",
       "        -1.88271504e+00, -1.65707734e+00, -1.27509600e+00,\n",
       "         5.34017373e-01,  2.31834180e-01, -5.43638812e-01,\n",
       "        -1.22347694e-15],\n",
       "       [-9.73205821e+00,  5.31158448e-01, -9.70129836e-01,\n",
       "        -3.86456687e-01,  2.55001103e+00, -6.71333443e-01,\n",
       "         7.44549057e-01, -9.85359593e-01,  9.57253755e-02,\n",
       "        -5.79767579e-16]])"
      ]
     },
     "execution_count": 26,
     "metadata": {},
     "output_type": "execute_result"
    }
   ],
   "source": [
    "pca_data"
   ]
  },
  {
   "cell_type": "code",
   "execution_count": 48,
   "id": "de3cdc49",
   "metadata": {},
   "outputs": [
    {
     "data": {
      "text/plain": [
       "array([-0.10392881, -0.10069495,  0.10553863, -0.10562038, -0.10542351,\n",
       "        0.1051582 , -0.10534749, -0.05219258,  0.10552805, -0.10459114,\n",
       "       -0.10378549,  0.09102361,  0.10507508, -0.10537605, -0.10430563,\n",
       "        0.10522718,  0.10554192, -0.10500895, -0.10519459, -0.10465483,\n",
       "       -0.1043246 ,  0.10189057,  0.10520441,  0.09005784, -0.10551653,\n",
       "        0.10460532,  0.10183363, -0.10499257, -0.10312037,  0.10532515,\n",
       "        0.10470968, -0.08944337, -0.10264932, -0.10557666, -0.10493901,\n",
       "       -0.10313325,  0.1054339 ,  0.01070466, -0.09246214,  0.10546853,\n",
       "       -0.10523631, -0.09078519, -0.09937375,  0.10438777,  0.10548474,\n",
       "       -0.09953399, -0.10502446,  0.10443453,  0.10503638, -0.10514796,\n",
       "        0.10558953,  0.10518789, -0.10557859,  0.06578356,  0.10160776,\n",
       "        0.10377679, -0.10550041, -0.1048651 ,  0.10563943,  0.09247579,\n",
       "        0.10174798,  0.10220389, -0.08777847,  0.10139291, -0.10519932,\n",
       "        0.10477048,  0.09744526, -0.10394803, -0.10538233,  0.0898952 ,\n",
       "       -0.10545036, -0.10536673,  0.10477447, -0.10530587, -0.10479875,\n",
       "        0.10538605, -0.10556146,  0.09722093,  0.10564118, -0.04001852,\n",
       "        0.10077228, -0.10512074, -0.10503399,  0.10360419, -0.09924733,\n",
       "       -0.08878734, -0.06102226, -0.02342867, -0.10560798,  0.10424285,\n",
       "       -0.09381871, -0.10535274,  0.10552553, -0.10477405,  0.10550237,\n",
       "        0.08870308,  0.10556511,  0.07273861, -0.10546462,  0.10550143])"
      ]
     },
     "execution_count": 48,
     "metadata": {},
     "output_type": "execute_result"
    }
   ],
   "source": [
    "pca.components_[0]"
   ]
  },
  {
   "cell_type": "code",
   "execution_count": 30,
   "id": "56d58c3a",
   "metadata": {},
   "outputs": [
    {
     "data": {
      "text/plain": [
       "array([8.94419363e-01, 2.80145368e-02, 2.07352459e-02, 1.59496776e-02,\n",
       "       1.52327243e-02, 8.94402238e-03, 7.16956066e-03, 5.63371819e-03,\n",
       "       3.90115094e-03, 1.96598364e-33])"
      ]
     },
     "execution_count": 30,
     "metadata": {},
     "output_type": "execute_result"
    }
   ],
   "source": [
    "pca.explained_variance_ratio_"
   ]
  },
  {
   "cell_type": "code",
   "execution_count": 31,
   "id": "8a5a2b1d",
   "metadata": {},
   "outputs": [
    {
     "data": {
      "text/plain": [
       "array([9.93799293e+01, 3.11272631e+00, 2.30391621e+00, 1.77218640e+00,\n",
       "       1.69252492e+00, 9.93780264e-01, 7.96617851e-01, 6.25968687e-01,\n",
       "       4.33461215e-01, 2.18442627e-31])"
      ]
     },
     "execution_count": 31,
     "metadata": {},
     "output_type": "execute_result"
    }
   ],
   "source": [
    "pca.explained_variance_"
   ]
  },
  {
   "cell_type": "code",
   "execution_count": 32,
   "id": "c13fefa8",
   "metadata": {},
   "outputs": [
    {
     "data": {
      "text/plain": [
       "array([ 7.77156117e-17,  7.32747196e-16,  1.33226763e-16, -4.44089210e-17,\n",
       "       -5.55111512e-17,  6.66133815e-17,  9.99200722e-17,  1.11022302e-17,\n",
       "        8.88178420e-17,  1.33226763e-16, -1.22124533e-16,  0.00000000e+00,\n",
       "        3.33066907e-17,  4.44089210e-17,  1.55431223e-16,  8.88178420e-17,\n",
       "        0.00000000e+00,  1.99840144e-16,  1.11022302e-17,  6.66133815e-17,\n",
       "        0.00000000e+00, -3.33066907e-17,  8.88178420e-17, -5.55111512e-18,\n",
       "        7.77156117e-17, -1.11022302e-16,  4.44089210e-16, -2.33146835e-16,\n",
       "       -5.99520433e-16,  0.00000000e+00,  1.99840144e-16, -6.43929354e-16,\n",
       "       -5.44009282e-16, -6.66133815e-17,  1.66533454e-16, -1.33226763e-16,\n",
       "       -1.33226763e-16, -2.06223927e-15,  1.19904087e-15,  8.88178420e-17,\n",
       "       -1.77635684e-16,  0.00000000e+00,  1.55431223e-15, -1.88737914e-16,\n",
       "        8.88178420e-17, -2.66453526e-16,  0.00000000e+00,  1.77635684e-16,\n",
       "        7.77156117e-17,  1.22124533e-16, -3.33066907e-17, -1.11022302e-16,\n",
       "        1.33226763e-16, -1.11022302e-17,  4.66293670e-16,  4.44089210e-17,\n",
       "        8.88178420e-17, -4.44089210e-17, -2.22044605e-17,  4.21884749e-16,\n",
       "       -2.88657986e-16,  0.00000000e+00, -1.73472348e-18,  6.66133815e-17,\n",
       "       -1.77635684e-16, -1.11022302e-16, -3.44169138e-16, -4.21884749e-16,\n",
       "        1.11022302e-17, -4.44089210e-16,  3.33066907e-17,  6.66133815e-17,\n",
       "       -1.11022302e-16, -1.33226763e-16,  3.10862447e-16,  8.88178420e-17,\n",
       "       -7.77156117e-17,  2.22044605e-16,  1.11022302e-17, -5.36376499e-16,\n",
       "       -1.77635684e-16, -1.11022302e-17,  0.00000000e+00, -6.66133815e-17,\n",
       "        3.33066907e-16, -6.88338275e-16,  4.21884749e-16, -1.06026299e-15,\n",
       "        4.44089210e-17, -3.10862447e-16,  5.19029264e-16, -1.88737914e-16,\n",
       "        1.33226763e-16, -1.33226763e-16,  1.77635684e-16, -4.44089210e-17,\n",
       "       -1.33226763e-16, -2.22044605e-17,  4.44089210e-17,  0.00000000e+00])"
      ]
     },
     "execution_count": 32,
     "metadata": {},
     "output_type": "execute_result"
    }
   ],
   "source": [
    "pca.mean_"
   ]
  },
  {
   "cell_type": "code",
   "execution_count": 33,
   "id": "2f50b1a9",
   "metadata": {},
   "outputs": [
    {
     "data": {
      "image/png": "[encoded data removed]",
      "text/plain": [
       "<Figure size 432x288 with 1 Axes>"
      ]
     },
     "metadata": {
      "needs_background": "light"
     },
     "output_type": "display_data"
    }
   ],
   "source": [
    "#The following code constructs the Scree plot\n",
    "per_var = np.round(pca.explained_variance_ratio_* 100, decimals=1)\n",
    "labels = ['PC' + str(x) for x in range(1, len(per_var)+1)]\n",
    " \n",
    "plt.bar(x=range(1,len(per_var)+1), height=per_var, tick_label=labels)\n",
    "plt.ylabel('Percentage of Explained Variance')\n",
    "plt.xlabel('Principal Component')\n",
    "plt.title('Scree Plot')\n",
    "plt.show()"
   ]
  },
  {
   "cell_type": "code",
   "execution_count": null,
   "id": "b875c851",
   "metadata": {},
   "outputs": [],
   "source": []
  },
  {
   "cell_type": "code",
   "execution_count": 34,
   "id": "4773d087",
   "metadata": {},
   "outputs": [],
   "source": [
    "pca_df = pd.DataFrame(pca_data, index=[*wt, *ko], columns=labels)"
   ]
  },
  {
   "cell_type": "code",
   "execution_count": 35,
   "id": "0b41c85e",
   "metadata": {},
   "outputs": [
    {
     "data": {
      "text/html": [
       "<div>\n",
       "<style scoped>\n",
       "    .dataframe tbody tr th:only-of-type {\n",
       "        vertical-align: middle;\n",
       "    }\n",
       "\n",
       "    .dataframe tbody tr th {\n",
       "        vertical-align: top;\n",
       "    }\n",
       "\n",
       "    .dataframe thead th {\n",
       "        text-align: right;\n",
       "    }\n",
       "</style>\n",
       "<table border=\"1\" class=\"dataframe\">\n",
       "  <thead>\n",
       "    <tr style=\"text-align: right;\">\n",
       "      <th></th>\n",
       "      <th>PC1</th>\n",
       "      <th>PC2</th>\n",
       "      <th>PC3</th>\n",
       "      <th>PC4</th>\n",
       "      <th>PC5</th>\n",
       "      <th>PC6</th>\n",
       "      <th>PC7</th>\n",
       "      <th>PC8</th>\n",
       "      <th>PC9</th>\n",
       "      <th>PC10</th>\n",
       "    </tr>\n",
       "  </thead>\n",
       "  <tbody>\n",
       "    <tr>\n",
       "      <th>wt1</th>\n",
       "      <td>9.568552</td>\n",
       "      <td>-1.540957</td>\n",
       "      <td>0.921370</td>\n",
       "      <td>-0.071706</td>\n",
       "      <td>-0.569957</td>\n",
       "      <td>1.559842</td>\n",
       "      <td>1.339187</td>\n",
       "      <td>-0.849279</td>\n",
       "      <td>-0.017123</td>\n",
       "      <td>1.703465e-15</td>\n",
       "    </tr>\n",
       "    <tr>\n",
       "      <th>wt2</th>\n",
       "      <td>9.096690</td>\n",
       "      <td>3.638044</td>\n",
       "      <td>0.438745</td>\n",
       "      <td>1.526223</td>\n",
       "      <td>-0.881897</td>\n",
       "      <td>-0.852440</td>\n",
       "      <td>0.509648</td>\n",
       "      <td>-0.076334</td>\n",
       "      <td>0.198926</td>\n",
       "      <td>9.146507e-16</td>\n",
       "    </tr>\n",
       "    <tr>\n",
       "      <th>wt3</th>\n",
       "      <td>9.096984</td>\n",
       "      <td>-0.764043</td>\n",
       "      <td>2.844112</td>\n",
       "      <td>0.060361</td>\n",
       "      <td>1.804188</td>\n",
       "      <td>-0.310211</td>\n",
       "      <td>-0.982227</td>\n",
       "      <td>0.405685</td>\n",
       "      <td>-0.177477</td>\n",
       "      <td>7.071801e-16</td>\n",
       "    </tr>\n",
       "    <tr>\n",
       "      <th>wt4</th>\n",
       "      <td>9.676014</td>\n",
       "      <td>-0.609120</td>\n",
       "      <td>-1.889382</td>\n",
       "      <td>-1.268376</td>\n",
       "      <td>0.358730</td>\n",
       "      <td>-0.114507</td>\n",
       "      <td>0.429362</td>\n",
       "      <td>1.341102</td>\n",
       "      <td>0.775547</td>\n",
       "      <td>1.279945e-15</td>\n",
       "    </tr>\n",
       "    <tr>\n",
       "      <th>wt5</th>\n",
       "      <td>9.830797</td>\n",
       "      <td>-0.591849</td>\n",
       "      <td>-2.192099</td>\n",
       "      <td>-0.261908</td>\n",
       "      <td>-0.643227</td>\n",
       "      <td>-0.318788</td>\n",
       "      <td>-1.274225</td>\n",
       "      <td>-0.826575</td>\n",
       "      <td>-0.782947</td>\n",
       "      <td>9.401863e-16</td>\n",
       "    </tr>\n",
       "    <tr>\n",
       "      <th>ko1</th>\n",
       "      <td>-9.522983</td>\n",
       "      <td>2.510809</td>\n",
       "      <td>-0.124350</td>\n",
       "      <td>-0.752518</td>\n",
       "      <td>0.154569</td>\n",
       "      <td>1.863156</td>\n",
       "      <td>-0.514275</td>\n",
       "      <td>0.550789</td>\n",
       "      <td>-0.471142</td>\n",
       "      <td>-8.553640e-16</td>\n",
       "    </tr>\n",
       "    <tr>\n",
       "      <th>ko2</th>\n",
       "      <td>-9.162796</td>\n",
       "      <td>-1.933390</td>\n",
       "      <td>-0.711459</td>\n",
       "      <td>2.755871</td>\n",
       "      <td>-0.089556</td>\n",
       "      <td>-0.035860</td>\n",
       "      <td>0.289145</td>\n",
       "      <td>0.778809</td>\n",
       "      <td>-0.450928</td>\n",
       "      <td>-8.570240e-16</td>\n",
       "    </tr>\n",
       "    <tr>\n",
       "      <th>ko3</th>\n",
       "      <td>-9.272977</td>\n",
       "      <td>-0.673479</td>\n",
       "      <td>0.423011</td>\n",
       "      <td>0.281224</td>\n",
       "      <td>-1.025784</td>\n",
       "      <td>0.155238</td>\n",
       "      <td>-1.075181</td>\n",
       "      <td>-0.570671</td>\n",
       "      <td>1.373059</td>\n",
       "      <td>-1.048696e-15</td>\n",
       "    </tr>\n",
       "    <tr>\n",
       "      <th>ko4</th>\n",
       "      <td>-9.578223</td>\n",
       "      <td>-0.567173</td>\n",
       "      <td>1.260182</td>\n",
       "      <td>-1.882715</td>\n",
       "      <td>-1.657077</td>\n",
       "      <td>-1.275096</td>\n",
       "      <td>0.534017</td>\n",
       "      <td>0.231834</td>\n",
       "      <td>-0.543639</td>\n",
       "      <td>-1.223477e-15</td>\n",
       "    </tr>\n",
       "    <tr>\n",
       "      <th>ko5</th>\n",
       "      <td>-9.732058</td>\n",
       "      <td>0.531158</td>\n",
       "      <td>-0.970130</td>\n",
       "      <td>-0.386457</td>\n",
       "      <td>2.550011</td>\n",
       "      <td>-0.671333</td>\n",
       "      <td>0.744549</td>\n",
       "      <td>-0.985360</td>\n",
       "      <td>0.095725</td>\n",
       "      <td>-5.797676e-16</td>\n",
       "    </tr>\n",
       "  </tbody>\n",
       "</table>\n",
       "</div>"
      ],
      "text/plain": [
       "          PC1       PC2       PC3       PC4       PC5       PC6       PC7  \\\n",
       "wt1  9.568552 -1.540957  0.921370 -0.071706 -0.569957  1.559842  1.339187   \n",
       "wt2  9.096690  3.638044  0.438745  1.526223 -0.881897 -0.852440  0.509648   \n",
       "wt3  9.096984 -0.764043  2.844112  0.060361  1.804188 -0.310211 -0.982227   \n",
       "wt4  9.676014 -0.609120 -1.889382 -1.268376  0.358730 -0.114507  0.429362   \n",
       "wt5  9.830797 -0.591849 -2.192099 -0.261908 -0.643227 -0.318788 -1.274225   \n",
       "ko1 -9.522983  2.510809 -0.124350 -0.752518  0.154569  1.863156 -0.514275   \n",
       "ko2 -9.162796 -1.933390 -0.711459  2.755871 -0.089556 -0.035860  0.289145   \n",
       "ko3 -9.272977 -0.673479  0.423011  0.281224 -1.025784  0.155238 -1.075181   \n",
       "ko4 -9.578223 -0.567173  1.260182 -1.882715 -1.657077 -1.275096  0.534017   \n",
       "ko5 -9.732058  0.531158 -0.970130 -0.386457  2.550011 -0.671333  0.744549   \n",
       "\n",
       "          PC8       PC9          PC10  \n",
       "wt1 -0.849279 -0.017123  1.703465e-15  \n",
       "wt2 -0.076334  0.198926  9.146507e-16  \n",
       "wt3  0.405685 -0.177477  7.071801e-16  \n",
       "wt4  1.341102  0.775547  1.279945e-15  \n",
       "wt5 -0.826575 -0.782947  9.401863e-16  \n",
       "ko1  0.550789 -0.471142 -8.553640e-16  \n",
       "ko2  0.778809 -0.450928 -8.570240e-16  \n",
       "ko3 -0.570671  1.373059 -1.048696e-15  \n",
       "ko4  0.231834 -0.543639 -1.223477e-15  \n",
       "ko5 -0.985360  0.095725 -5.797676e-16  "
      ]
     },
     "execution_count": 35,
     "metadata": {},
     "output_type": "execute_result"
    }
   ],
   "source": [
    "pca_df"
   ]
  },
  {
   "cell_type": "code",
   "execution_count": 36,
   "id": "ca52ee91",
   "metadata": {},
   "outputs": [
    {
     "data": {
      "image/png": "[encoded data removed]",
      "text/plain": [
       "<Figure size 432x288 with 1 Axes>"
      ]
     },
     "metadata": {
      "needs_background": "light"
     },
     "output_type": "display_data"
    }
   ],
   "source": [
    "#the following code makes a fancy looking plot using PC1 and PC2\n",
    "plt.scatter(pca_df.PC1, pca_df.PC2)\n",
    "plt.title('My PCA Graph')\n",
    "plt.xlabel('PC1 - {0}%'.format(per_var[0]))\n",
    "plt.ylabel('PC2 - {0}%'.format(per_var[1]))\n",
    " \n",
    "for sample in pca_df.index:\n",
    "    plt.annotate(sample, (pca_df.PC1.loc[sample], pca_df.PC2.loc[sample]))\n",
    " \n",
    "plt.show()"
   ]
  },
  {
   "cell_type": "code",
   "execution_count": null,
   "id": "627cb002",
   "metadata": {},
   "outputs": [],
   "source": [
    "## get the name of the top 10 measurements (genes) that contribute\n",
    "## most to pc1.\n",
    "## first, get the loading scores"
   ]
  },
  {
   "cell_type": "code",
   "execution_count": 46,
   "id": "4254468a",
   "metadata": {},
   "outputs": [],
   "source": [
    "loading_scores = pd.Series(pca.components_[0], index=genes)"
   ]
  },
  {
   "cell_type": "code",
   "execution_count": 47,
   "id": "e8e32608",
   "metadata": {},
   "outputs": [
    {
     "data": {
      "text/plain": [
       "gene1     -0.103929\n",
       "gene2     -0.100695\n",
       "gene3      0.105539\n",
       "gene4     -0.105620\n",
       "gene5     -0.105424\n",
       "             ...   \n",
       "gene96     0.088703\n",
       "gene97     0.105565\n",
       "gene98     0.072739\n",
       "gene99    -0.105465\n",
       "gene100    0.105501\n",
       "Length: 100, dtype: float64"
      ]
     },
     "execution_count": 47,
     "metadata": {},
     "output_type": "execute_result"
    }
   ],
   "source": [
    "loading_scores"
   ]
  },
  {
   "cell_type": "code",
   "execution_count": 49,
   "id": "cb89df7f",
   "metadata": {},
   "outputs": [],
   "source": [
    "## now sort the loading scores based on their magnitude\n",
    "sorted_loading_scores = loading_scores.abs().sort_values(ascending=False)"
   ]
  },
  {
   "cell_type": "code",
   "execution_count": 50,
   "id": "db1ffe75",
   "metadata": {},
   "outputs": [
    {
     "data": {
      "text/plain": [
       "gene79    0.105641\n",
       "gene59    0.105639\n",
       "gene4     0.105620\n",
       "gene89    0.105608\n",
       "gene51    0.105590\n",
       "            ...   \n",
       "gene87    0.061022\n",
       "gene8     0.052193\n",
       "gene80    0.040019\n",
       "gene88    0.023429\n",
       "gene38    0.010705\n",
       "Length: 100, dtype: float64"
      ]
     },
     "execution_count": 50,
     "metadata": {},
     "output_type": "execute_result"
    }
   ],
   "source": [
    "sorted_loading_scores"
   ]
  },
  {
   "cell_type": "code",
   "execution_count": 51,
   "id": "9a6808d1",
   "metadata": {},
   "outputs": [
    {
     "name": "stdout",
     "output_type": "stream",
     "text": [
      "gene79    0.105641\n",
      "gene59    0.105639\n",
      "gene4    -0.105620\n",
      "gene89   -0.105608\n",
      "gene51    0.105590\n",
      "gene53   -0.105579\n",
      "gene34   -0.105577\n",
      "gene97    0.105565\n",
      "gene77   -0.105561\n",
      "gene17    0.105542\n",
      "dtype: float64\n"
     ]
    }
   ],
   "source": [
    "# get the names of the top 10 genes\n",
    "top_10_genes = sorted_loading_scores[0:10].index.values\n",
    " \n",
    "## print the gene names and their scores (and +/- sign)\n",
    "print(loading_scores[top_10_genes])"
   ]
  },
  {
   "cell_type": "code",
   "execution_count": null,
   "id": "cb5c3fb4",
   "metadata": {},
   "outputs": [],
   "source": []
  },
  {
   "cell_type": "code",
   "execution_count": null,
   "id": "285d285e",
   "metadata": {},
   "outputs": [],
   "source": []
  }
 ],
 "metadata": {
  "kernelspec": {
   "display_name": "Python 3",
   "language": "python",
   "name": "python3"
  },
  "language_info": {
   "codemirror_mode": {
    "name": "ipython",
    "version": 3
   },
   "file_extension": ".py",
   "mimetype": "text/x-python",
   "name": "python",
   "nbconvert_exporter": "python",
   "pygments_lexer": "ipython3",
   "version": "3.9.1"
  }
 },
 "nbformat": 4,
 "nbformat_minor": 5
}
